{
 "cells": [
  {
   "cell_type": "markdown",
   "id": "e6e4d4c3-118b-4b96-bf5b-6632d7f16844",
   "metadata": {},
   "source": [
    "## 1. Executive Summary"
   ]
  },
  {
   "cell_type": "markdown",
   "id": "ef6c17bc-6ee6-4ae8-b010-b32b97fd9265",
   "metadata": {},
   "source": [
    "__Purpose:__ Job lifestyle or job satisfaction plays a crucial role in today`s day to day life. Hence, the key objective of this project is to study employee attrition within the company and identify the major patterns, trends, and root causes. This investigation will offer actionable insights for enhancing organizational performance, optimizing human resource planning, and solidifying strategies for employee retention. By acting on the root causes of employee attrition identified in this study, the company can significantly enhance workforce stability and make a flexible work life balance schedule which will help employees to sustain and not to leave the company. <br>\n",
    "This project will include the dataset from kaggle.<br>\n",
    "\n",
    "__Dataset:__  ___https://www.kaggle.com/datasets/pavansubhasht/ibm-hr-analytics-attrition-dataset___ <br>\n",
    "\n",
    "__Overview:__ The data set has 35 features which will help to understand why employee are more bound to leave. This enforces to implement the actionable changes in the companies lifestyle which eventually makes the employee statisfied and will significantly reduce the leaving rates of the employee.<br>\n",
    "<br>\n",
    "__Attrition:__ Nearly __237__ employees left the company. Reasons of them leaving the company is the main goal of this project.<br>\n",
    "<br>\n"
   ]
  },
  {
   "cell_type": "markdown",
   "id": "7254c422-aa63-40d1-9139-1d1955a16d8b",
   "metadata": {},
   "source": [
    "<br> \n",
    "<center><img src=\"https://www.investing.com/academy/wp-content/uploads/2022/10/ibm-company.jpg\" width=\"500\" height=\"200\" /></center>\n",
    "<br>"
   ]
  },
  {
   "cell_type": "markdown",
   "id": "219cec7f-84df-4a86-b293-9a3439ed67ae",
   "metadata": {},
   "source": [
    "## 2. Motivation"
   ]
  },
  {
   "cell_type": "markdown",
   "id": "68e18ea9-bc10-4428-a456-10cec164c359",
   "metadata": {},
   "source": [
    "In today`s world, employee attrition is a major problem for organizations because it can lead to increased hiring costs, loss of institutional knowledge, and stressed team relationships. The development of effective measures to retain employees and the culture of the workplace depends on knowledge of the features that influence quitting behavior.<br>\n",
    "<br>\n",
    "The need to extract meaningful insights from data in order to address these issues, improve employee happiness, and match labor expectations with company goals. This study aims to equip the decision-makers with the ability to proactively reduce attrition and build a more resilient and engaged workforce through the use of predictive modeling and advanced data analytics.<br>\n",
    "<br>\n",
    "__Predictive question:__ The most important analysis that we attempt to make is to find out:  What are the key factors that contribute to an employee’s likelihood of leaving the organization? <br>\n",
    "<br>\n",
    "__Descriptive questions:__ This report or study will enhance to find out the key factors for employee attrition. These factors could be their PromotionDue, DistanceFromHome, JobSatisfaction, WorkLifeBalance, OverTime, MonthlyIncome and so on.<br>\n",
    "<br>\n",
    "We attempt to address few more questions as listed below:<br>\n",
    "1. _How many __employees__ left the company?_<br>\n",
    "2. how many __males and females__ left the company?_<br>\n",
    "3. _Which __age group__ was prone to leave the company?_<br>\n",
    "4. _Exploring why 29-39 age group has more employees who left the company._<br>\n",
    "5. _Which __department__ suffered the loss of employees?_<br>\n",
    "6. _What was the __monthly income__ for the employees who left the organization?_<br>\n",
    "7. _What was the __total working years__ of each employees who left the company?_<br>\n",
    "8. _Was the attrition because the employees did __not__ recieve their __promotion__?_<br>\n",
    "9. _How many __years__ did the employees contribute to the company before leaving?_<br>\n",
    "10. _Was the __distance__ from an employee's home a factor in their decision to __leave__ the company?_<br>\n",
    "11. _Was their attrition due to frustration of working __overtime__?_<br>\n",
    "12. _Which role suffered __maximum__ loss of employees?_<br>\n",
    "13. _What is the monthly income of __manageral__ job role?_<br>\n",
    "14. _Checking if their __attrition__ was due to salary hike, years into current role or years since last promotion happened?_<br>\n"
   ]
  },
  {
   "cell_type": "markdown",
   "id": "c5ff3f53-b019-4c72-86ea-666cb2618af9",
   "metadata": {},
   "source": [
    "## 3. Data Description"
   ]
  },
  {
   "cell_type": "markdown",
   "id": "98447d46-9f23-4bfb-8b78-82820ba7ee1e",
   "metadata": {},
   "source": [
    "There are __1470__ records and __35__ columns.<br>\n",
    "The dataset is intended to study employee attrition—specifically, it aims to understand the factors that influence employees' decisions to leave the company. The features collected provide information about employee demographics, job satisfaction, compensation, performance, and other work-related factors.<br>\n",
    "<br>\n",
    "__Key features of the dataset:__ <br> Target variable is __Attrition.__\n",
    "1. __Demographics:__ <br>\n",
    "__Age:__ The employee's age (range: 18 to 60 years).<br>\n",
    "__Education__ The level of education the employee has attained.<br>\n",
    "__JobLevel:__ The employee’s job level (e.g., entry-level, mid-level, senior-level).<br>\n",
    "__JobRole:__ The specific role the employee holds in the company (e.g., Manager, Technician).<br>\n",
    "__Gender:__ The gender of the employee.<br>\n",
    "<br>\n",
    "2. __Workplace:__ <br>\n",
    "__EnvironmentSatisfaction:__ The employee’s satisfaction with the work environment (scale of 1 to 4).<br>\n",
    "__JobSatisfaction:__ How satisfied the employee is with their job (scale of 1 to 4).<br>\n",
    "__RelationshipSatisfaction:__ Satisfaction with relationships with coworkers or managers.<br>\n",
    "__WorkLifeBalance:__ How the employee feels about their work-life balance (scale of 1 to 4).<br>\n",
    "__JobInvolvement:__ The employee involved in their job (scale of 1 to 4).<br>\n",
    "<br>\n",
    "3. __Career Development:__ <br>\n",
    "__DailyRate:__ The daily pay rate of the employee.<br>\n",
    "__HourlyRate:__ The hourly pay rate.<br>\n",
    "__MonthlyIncome:__ The monthly income of the employee.<br>\n",
    "__PercentSalaryHike:__ The percentage increase in salary compared to the previous year.<br>\n",
    "__TrainingTimesLastYear:__ The number of training sessions the employee attended last year.<br>\n",
    "__StockOptionLevel:__ The level of stock options provided to the employee.<br>\n",
    "<br>\n",
    "4. __Employee salary and Career Path:__ <br>\n",
    "__TotalWorkingYears:__ The total number of years the employee has worked in various jobs.<br>\n",
    "__YearsAtCompany:__ The number of years the employee has been with the current company.<br>\n",
    "__YearsInCurrentRole:__ The number of years the employee has been in their current job role.<br>\n",
    "__YearsSinceLastPromotion:__ The number of years since the employee received their last promotion.<br>\n",
    "__YearsWithCurrManager:__ The number of years the employee has been working under the current manager.<br>\n",
    "<br>\n",
    "5. __Work-related Factors:__ <br>\n",
    "__BusinessTravel:__ The frequency of business travel for the employee (e.g., rarely, frequently).<br>\n",
    "__DistanceFromHome:__ How far the employee lives from the workplace (likely measured in miles).<br>\n",
    "__OverTime:__ Whether the employee works overtime (Yes/No).<br>\n",
    "<br>\n",
    "6. __Employee Performance and Evaluation:__ <br>\n",
    "__PerformanceRating:__ A rating indicating the employee’s performance (could be from performance reviews).<br>\n",
    "__MaritalStatus:__ Marital status of the employee (e.g., Single, Married or Divorced).<br>\n",
    "__Over18:__ Indicates whether the employee is over 18 years old (used for filtering out non-adults).<br>\n",
    "<br>\n",
    "7. __Other features:__ <br>\n",
    "__EmployeeCount:__ This is always 1 in your data and might not add much value.<br>\n",
    "__EmployeeNumber:__ A unique identifier for each employee.<br>"
   ]
  },
  {
   "cell_type": "markdown",
   "id": "83b17554-667d-4e59-bd57-975f375548ee",
   "metadata": {},
   "source": [
    "## 4. Loading Dataset"
   ]
  },
  {
   "cell_type": "code",
   "execution_count": 10,
   "id": "53151518-4c65-4cf0-8380-51cf61d3c4e4",
   "metadata": {},
   "outputs": [],
   "source": [
    "from IPython.core.interactiveshell import InteractiveShell\n",
    "InteractiveShell.ast_node_interactivity = \"all\"\n",
    "\n",
    "import warnings\n",
    "# Ignore all warnings\n",
    "warnings.filterwarnings(\"ignore\")"
   ]
  },
  {
   "cell_type": "code",
   "execution_count": 11,
   "id": "1e0bd9d0-edae-4c4e-a843-dfe2ee1ef7b5",
   "metadata": {},
   "outputs": [],
   "source": [
    "# importing library\n",
    "import pandas as pd\n",
    "import numpy as np\n",
    "import matplotlib.pyplot as plt\n",
    "from sklearn.linear_model import LogisticRegression\n",
    "from sklearn.metrics import accuracy_score\n",
    "from sklearn.model_selection import train_test_split"
   ]
  },
  {
   "cell_type": "code",
   "execution_count": 12,
   "id": "149825ef-e596-4245-be8c-ba4c5c077b8e",
   "metadata": {},
   "outputs": [],
   "source": [
    "emp = pd.read_csv(\"C:\\\\Users\\\\Hrutuja Satpute\\\\Downloads\\\\Web-scraping\\\\WA_Fn-UseC_-HR-Employee-Attrition.csv\")"
   ]
  },
  {
   "cell_type": "code",
   "execution_count": 13,
   "id": "13f0b783-f51d-43c9-9296-f7151be3ed6c",
   "metadata": {},
   "outputs": [
    {
     "data": {
      "text/html": [
       "<div>\n",
       "<style scoped>\n",
       "    .dataframe tbody tr th:only-of-type {\n",
       "        vertical-align: middle;\n",
       "    }\n",
       "\n",
       "    .dataframe tbody tr th {\n",
       "        vertical-align: top;\n",
       "    }\n",
       "\n",
       "    .dataframe thead th {\n",
       "        text-align: right;\n",
       "    }\n",
       "</style>\n",
       "<table border=\"1\" class=\"dataframe\">\n",
       "  <thead>\n",
       "    <tr style=\"text-align: right;\">\n",
       "      <th></th>\n",
       "      <th>Age</th>\n",
       "      <th>Attrition</th>\n",
       "      <th>BusinessTravel</th>\n",
       "      <th>DailyRate</th>\n",
       "      <th>Department</th>\n",
       "      <th>DistanceFromHome</th>\n",
       "      <th>Education</th>\n",
       "      <th>EducationField</th>\n",
       "      <th>EmployeeCount</th>\n",
       "      <th>EmployeeNumber</th>\n",
       "      <th>...</th>\n",
       "      <th>RelationshipSatisfaction</th>\n",
       "      <th>StandardHours</th>\n",
       "      <th>StockOptionLevel</th>\n",
       "      <th>TotalWorkingYears</th>\n",
       "      <th>TrainingTimesLastYear</th>\n",
       "      <th>WorkLifeBalance</th>\n",
       "      <th>YearsAtCompany</th>\n",
       "      <th>YearsInCurrentRole</th>\n",
       "      <th>YearsSinceLastPromotion</th>\n",
       "      <th>YearsWithCurrManager</th>\n",
       "    </tr>\n",
       "  </thead>\n",
       "  <tbody>\n",
       "    <tr>\n",
       "      <th>0</th>\n",
       "      <td>41</td>\n",
       "      <td>Yes</td>\n",
       "      <td>Travel_Rarely</td>\n",
       "      <td>1102</td>\n",
       "      <td>Sales</td>\n",
       "      <td>1</td>\n",
       "      <td>2</td>\n",
       "      <td>Life Sciences</td>\n",
       "      <td>1</td>\n",
       "      <td>1</td>\n",
       "      <td>...</td>\n",
       "      <td>1</td>\n",
       "      <td>80</td>\n",
       "      <td>0</td>\n",
       "      <td>8</td>\n",
       "      <td>0</td>\n",
       "      <td>1</td>\n",
       "      <td>6</td>\n",
       "      <td>4</td>\n",
       "      <td>0</td>\n",
       "      <td>5</td>\n",
       "    </tr>\n",
       "    <tr>\n",
       "      <th>1</th>\n",
       "      <td>49</td>\n",
       "      <td>No</td>\n",
       "      <td>Travel_Frequently</td>\n",
       "      <td>279</td>\n",
       "      <td>Research &amp; Development</td>\n",
       "      <td>8</td>\n",
       "      <td>1</td>\n",
       "      <td>Life Sciences</td>\n",
       "      <td>1</td>\n",
       "      <td>2</td>\n",
       "      <td>...</td>\n",
       "      <td>4</td>\n",
       "      <td>80</td>\n",
       "      <td>1</td>\n",
       "      <td>10</td>\n",
       "      <td>3</td>\n",
       "      <td>3</td>\n",
       "      <td>10</td>\n",
       "      <td>7</td>\n",
       "      <td>1</td>\n",
       "      <td>7</td>\n",
       "    </tr>\n",
       "    <tr>\n",
       "      <th>2</th>\n",
       "      <td>37</td>\n",
       "      <td>Yes</td>\n",
       "      <td>Travel_Rarely</td>\n",
       "      <td>1373</td>\n",
       "      <td>Research &amp; Development</td>\n",
       "      <td>2</td>\n",
       "      <td>2</td>\n",
       "      <td>Other</td>\n",
       "      <td>1</td>\n",
       "      <td>4</td>\n",
       "      <td>...</td>\n",
       "      <td>2</td>\n",
       "      <td>80</td>\n",
       "      <td>0</td>\n",
       "      <td>7</td>\n",
       "      <td>3</td>\n",
       "      <td>3</td>\n",
       "      <td>0</td>\n",
       "      <td>0</td>\n",
       "      <td>0</td>\n",
       "      <td>0</td>\n",
       "    </tr>\n",
       "    <tr>\n",
       "      <th>3</th>\n",
       "      <td>33</td>\n",
       "      <td>No</td>\n",
       "      <td>Travel_Frequently</td>\n",
       "      <td>1392</td>\n",
       "      <td>Research &amp; Development</td>\n",
       "      <td>3</td>\n",
       "      <td>4</td>\n",
       "      <td>Life Sciences</td>\n",
       "      <td>1</td>\n",
       "      <td>5</td>\n",
       "      <td>...</td>\n",
       "      <td>3</td>\n",
       "      <td>80</td>\n",
       "      <td>0</td>\n",
       "      <td>8</td>\n",
       "      <td>3</td>\n",
       "      <td>3</td>\n",
       "      <td>8</td>\n",
       "      <td>7</td>\n",
       "      <td>3</td>\n",
       "      <td>0</td>\n",
       "    </tr>\n",
       "    <tr>\n",
       "      <th>4</th>\n",
       "      <td>27</td>\n",
       "      <td>No</td>\n",
       "      <td>Travel_Rarely</td>\n",
       "      <td>591</td>\n",
       "      <td>Research &amp; Development</td>\n",
       "      <td>2</td>\n",
       "      <td>1</td>\n",
       "      <td>Medical</td>\n",
       "      <td>1</td>\n",
       "      <td>7</td>\n",
       "      <td>...</td>\n",
       "      <td>4</td>\n",
       "      <td>80</td>\n",
       "      <td>1</td>\n",
       "      <td>6</td>\n",
       "      <td>3</td>\n",
       "      <td>3</td>\n",
       "      <td>2</td>\n",
       "      <td>2</td>\n",
       "      <td>2</td>\n",
       "      <td>2</td>\n",
       "    </tr>\n",
       "  </tbody>\n",
       "</table>\n",
       "<p>5 rows × 35 columns</p>\n",
       "</div>"
      ],
      "text/plain": [
       "   Age Attrition     BusinessTravel  DailyRate              Department  \\\n",
       "0   41       Yes      Travel_Rarely       1102                   Sales   \n",
       "1   49        No  Travel_Frequently        279  Research & Development   \n",
       "2   37       Yes      Travel_Rarely       1373  Research & Development   \n",
       "3   33        No  Travel_Frequently       1392  Research & Development   \n",
       "4   27        No      Travel_Rarely        591  Research & Development   \n",
       "\n",
       "   DistanceFromHome  Education EducationField  EmployeeCount  EmployeeNumber  \\\n",
       "0                 1          2  Life Sciences              1               1   \n",
       "1                 8          1  Life Sciences              1               2   \n",
       "2                 2          2          Other              1               4   \n",
       "3                 3          4  Life Sciences              1               5   \n",
       "4                 2          1        Medical              1               7   \n",
       "\n",
       "   ...  RelationshipSatisfaction StandardHours  StockOptionLevel  \\\n",
       "0  ...                         1            80                 0   \n",
       "1  ...                         4            80                 1   \n",
       "2  ...                         2            80                 0   \n",
       "3  ...                         3            80                 0   \n",
       "4  ...                         4            80                 1   \n",
       "\n",
       "   TotalWorkingYears  TrainingTimesLastYear WorkLifeBalance  YearsAtCompany  \\\n",
       "0                  8                      0               1               6   \n",
       "1                 10                      3               3              10   \n",
       "2                  7                      3               3               0   \n",
       "3                  8                      3               3               8   \n",
       "4                  6                      3               3               2   \n",
       "\n",
       "  YearsInCurrentRole  YearsSinceLastPromotion  YearsWithCurrManager  \n",
       "0                  4                        0                     5  \n",
       "1                  7                        1                     7  \n",
       "2                  0                        0                     0  \n",
       "3                  7                        3                     0  \n",
       "4                  2                        2                     2  \n",
       "\n",
       "[5 rows x 35 columns]"
      ]
     },
     "execution_count": 13,
     "metadata": {},
     "output_type": "execute_result"
    }
   ],
   "source": [
    "emp.head(5)"
   ]
  },
  {
   "cell_type": "code",
   "execution_count": 14,
   "id": "38763897-f3ba-4623-82f7-b8ff83ff894c",
   "metadata": {},
   "outputs": [
    {
     "data": {
      "text/plain": [
       "(1470, 35)"
      ]
     },
     "execution_count": 14,
     "metadata": {},
     "output_type": "execute_result"
    }
   ],
   "source": [
    "# shape of the dataset\n",
    "emp.shape"
   ]
  },
  {
   "cell_type": "markdown",
   "id": "38b36f39-9f79-4b6f-a133-bf1e428e9aa5",
   "metadata": {},
   "source": [
    "There are __1470__ records and __35__ columns"
   ]
  },
  {
   "cell_type": "code",
   "execution_count": 16,
   "id": "ac0662c8-3540-4c87-bcf9-5fc33df56fa5",
   "metadata": {},
   "outputs": [
    {
     "data": {
      "text/plain": [
       "Index(['Age', 'Attrition', 'BusinessTravel', 'DailyRate', 'Department',\n",
       "       'DistanceFromHome', 'Education', 'EducationField', 'EmployeeCount',\n",
       "       'EmployeeNumber', 'EnvironmentSatisfaction', 'Gender', 'HourlyRate',\n",
       "       'JobInvolvement', 'JobLevel', 'JobRole', 'JobSatisfaction',\n",
       "       'MaritalStatus', 'MonthlyIncome', 'MonthlyRate', 'NumCompaniesWorked',\n",
       "       'Over18', 'OverTime', 'PercentSalaryHike', 'PerformanceRating',\n",
       "       'RelationshipSatisfaction', 'StandardHours', 'StockOptionLevel',\n",
       "       'TotalWorkingYears', 'TrainingTimesLastYear', 'WorkLifeBalance',\n",
       "       'YearsAtCompany', 'YearsInCurrentRole', 'YearsSinceLastPromotion',\n",
       "       'YearsWithCurrManager'],\n",
       "      dtype='object')"
      ]
     },
     "execution_count": 16,
     "metadata": {},
     "output_type": "execute_result"
    }
   ],
   "source": [
    "# columns\n",
    "emp.columns"
   ]
  },
  {
   "cell_type": "code",
   "execution_count": 17,
   "id": "ef5fe661-555d-4f9b-bee6-6c6a1cfafff9",
   "metadata": {},
   "outputs": [
    {
     "data": {
      "text/html": [
       "<div>\n",
       "<style scoped>\n",
       "    .dataframe tbody tr th:only-of-type {\n",
       "        vertical-align: middle;\n",
       "    }\n",
       "\n",
       "    .dataframe tbody tr th {\n",
       "        vertical-align: top;\n",
       "    }\n",
       "\n",
       "    .dataframe thead th {\n",
       "        text-align: right;\n",
       "    }\n",
       "</style>\n",
       "<table border=\"1\" class=\"dataframe\">\n",
       "  <thead>\n",
       "    <tr style=\"text-align: right;\">\n",
       "      <th></th>\n",
       "      <th>Age</th>\n",
       "      <th>DailyRate</th>\n",
       "      <th>DistanceFromHome</th>\n",
       "      <th>Education</th>\n",
       "      <th>EmployeeCount</th>\n",
       "      <th>EmployeeNumber</th>\n",
       "      <th>EnvironmentSatisfaction</th>\n",
       "      <th>HourlyRate</th>\n",
       "      <th>JobInvolvement</th>\n",
       "      <th>JobLevel</th>\n",
       "      <th>...</th>\n",
       "      <th>RelationshipSatisfaction</th>\n",
       "      <th>StandardHours</th>\n",
       "      <th>StockOptionLevel</th>\n",
       "      <th>TotalWorkingYears</th>\n",
       "      <th>TrainingTimesLastYear</th>\n",
       "      <th>WorkLifeBalance</th>\n",
       "      <th>YearsAtCompany</th>\n",
       "      <th>YearsInCurrentRole</th>\n",
       "      <th>YearsSinceLastPromotion</th>\n",
       "      <th>YearsWithCurrManager</th>\n",
       "    </tr>\n",
       "  </thead>\n",
       "  <tbody>\n",
       "    <tr>\n",
       "      <th>count</th>\n",
       "      <td>1470.000000</td>\n",
       "      <td>1470.000000</td>\n",
       "      <td>1470.000000</td>\n",
       "      <td>1470.000000</td>\n",
       "      <td>1470.0</td>\n",
       "      <td>1470.000000</td>\n",
       "      <td>1470.000000</td>\n",
       "      <td>1470.000000</td>\n",
       "      <td>1470.000000</td>\n",
       "      <td>1470.000000</td>\n",
       "      <td>...</td>\n",
       "      <td>1470.000000</td>\n",
       "      <td>1470.0</td>\n",
       "      <td>1470.000000</td>\n",
       "      <td>1470.000000</td>\n",
       "      <td>1470.000000</td>\n",
       "      <td>1470.000000</td>\n",
       "      <td>1470.000000</td>\n",
       "      <td>1470.000000</td>\n",
       "      <td>1470.000000</td>\n",
       "      <td>1470.000000</td>\n",
       "    </tr>\n",
       "    <tr>\n",
       "      <th>mean</th>\n",
       "      <td>36.923810</td>\n",
       "      <td>802.485714</td>\n",
       "      <td>9.192517</td>\n",
       "      <td>2.912925</td>\n",
       "      <td>1.0</td>\n",
       "      <td>1024.865306</td>\n",
       "      <td>2.721769</td>\n",
       "      <td>65.891156</td>\n",
       "      <td>2.729932</td>\n",
       "      <td>2.063946</td>\n",
       "      <td>...</td>\n",
       "      <td>2.712245</td>\n",
       "      <td>80.0</td>\n",
       "      <td>0.793878</td>\n",
       "      <td>11.279592</td>\n",
       "      <td>2.799320</td>\n",
       "      <td>2.761224</td>\n",
       "      <td>7.008163</td>\n",
       "      <td>4.229252</td>\n",
       "      <td>2.187755</td>\n",
       "      <td>4.123129</td>\n",
       "    </tr>\n",
       "    <tr>\n",
       "      <th>std</th>\n",
       "      <td>9.135373</td>\n",
       "      <td>403.509100</td>\n",
       "      <td>8.106864</td>\n",
       "      <td>1.024165</td>\n",
       "      <td>0.0</td>\n",
       "      <td>602.024335</td>\n",
       "      <td>1.093082</td>\n",
       "      <td>20.329428</td>\n",
       "      <td>0.711561</td>\n",
       "      <td>1.106940</td>\n",
       "      <td>...</td>\n",
       "      <td>1.081209</td>\n",
       "      <td>0.0</td>\n",
       "      <td>0.852077</td>\n",
       "      <td>7.780782</td>\n",
       "      <td>1.289271</td>\n",
       "      <td>0.706476</td>\n",
       "      <td>6.126525</td>\n",
       "      <td>3.623137</td>\n",
       "      <td>3.222430</td>\n",
       "      <td>3.568136</td>\n",
       "    </tr>\n",
       "    <tr>\n",
       "      <th>min</th>\n",
       "      <td>18.000000</td>\n",
       "      <td>102.000000</td>\n",
       "      <td>1.000000</td>\n",
       "      <td>1.000000</td>\n",
       "      <td>1.0</td>\n",
       "      <td>1.000000</td>\n",
       "      <td>1.000000</td>\n",
       "      <td>30.000000</td>\n",
       "      <td>1.000000</td>\n",
       "      <td>1.000000</td>\n",
       "      <td>...</td>\n",
       "      <td>1.000000</td>\n",
       "      <td>80.0</td>\n",
       "      <td>0.000000</td>\n",
       "      <td>0.000000</td>\n",
       "      <td>0.000000</td>\n",
       "      <td>1.000000</td>\n",
       "      <td>0.000000</td>\n",
       "      <td>0.000000</td>\n",
       "      <td>0.000000</td>\n",
       "      <td>0.000000</td>\n",
       "    </tr>\n",
       "    <tr>\n",
       "      <th>25%</th>\n",
       "      <td>30.000000</td>\n",
       "      <td>465.000000</td>\n",
       "      <td>2.000000</td>\n",
       "      <td>2.000000</td>\n",
       "      <td>1.0</td>\n",
       "      <td>491.250000</td>\n",
       "      <td>2.000000</td>\n",
       "      <td>48.000000</td>\n",
       "      <td>2.000000</td>\n",
       "      <td>1.000000</td>\n",
       "      <td>...</td>\n",
       "      <td>2.000000</td>\n",
       "      <td>80.0</td>\n",
       "      <td>0.000000</td>\n",
       "      <td>6.000000</td>\n",
       "      <td>2.000000</td>\n",
       "      <td>2.000000</td>\n",
       "      <td>3.000000</td>\n",
       "      <td>2.000000</td>\n",
       "      <td>0.000000</td>\n",
       "      <td>2.000000</td>\n",
       "    </tr>\n",
       "    <tr>\n",
       "      <th>50%</th>\n",
       "      <td>36.000000</td>\n",
       "      <td>802.000000</td>\n",
       "      <td>7.000000</td>\n",
       "      <td>3.000000</td>\n",
       "      <td>1.0</td>\n",
       "      <td>1020.500000</td>\n",
       "      <td>3.000000</td>\n",
       "      <td>66.000000</td>\n",
       "      <td>3.000000</td>\n",
       "      <td>2.000000</td>\n",
       "      <td>...</td>\n",
       "      <td>3.000000</td>\n",
       "      <td>80.0</td>\n",
       "      <td>1.000000</td>\n",
       "      <td>10.000000</td>\n",
       "      <td>3.000000</td>\n",
       "      <td>3.000000</td>\n",
       "      <td>5.000000</td>\n",
       "      <td>3.000000</td>\n",
       "      <td>1.000000</td>\n",
       "      <td>3.000000</td>\n",
       "    </tr>\n",
       "    <tr>\n",
       "      <th>75%</th>\n",
       "      <td>43.000000</td>\n",
       "      <td>1157.000000</td>\n",
       "      <td>14.000000</td>\n",
       "      <td>4.000000</td>\n",
       "      <td>1.0</td>\n",
       "      <td>1555.750000</td>\n",
       "      <td>4.000000</td>\n",
       "      <td>83.750000</td>\n",
       "      <td>3.000000</td>\n",
       "      <td>3.000000</td>\n",
       "      <td>...</td>\n",
       "      <td>4.000000</td>\n",
       "      <td>80.0</td>\n",
       "      <td>1.000000</td>\n",
       "      <td>15.000000</td>\n",
       "      <td>3.000000</td>\n",
       "      <td>3.000000</td>\n",
       "      <td>9.000000</td>\n",
       "      <td>7.000000</td>\n",
       "      <td>3.000000</td>\n",
       "      <td>7.000000</td>\n",
       "    </tr>\n",
       "    <tr>\n",
       "      <th>max</th>\n",
       "      <td>60.000000</td>\n",
       "      <td>1499.000000</td>\n",
       "      <td>29.000000</td>\n",
       "      <td>5.000000</td>\n",
       "      <td>1.0</td>\n",
       "      <td>2068.000000</td>\n",
       "      <td>4.000000</td>\n",
       "      <td>100.000000</td>\n",
       "      <td>4.000000</td>\n",
       "      <td>5.000000</td>\n",
       "      <td>...</td>\n",
       "      <td>4.000000</td>\n",
       "      <td>80.0</td>\n",
       "      <td>3.000000</td>\n",
       "      <td>40.000000</td>\n",
       "      <td>6.000000</td>\n",
       "      <td>4.000000</td>\n",
       "      <td>40.000000</td>\n",
       "      <td>18.000000</td>\n",
       "      <td>15.000000</td>\n",
       "      <td>17.000000</td>\n",
       "    </tr>\n",
       "  </tbody>\n",
       "</table>\n",
       "<p>8 rows × 26 columns</p>\n",
       "</div>"
      ],
      "text/plain": [
       "               Age    DailyRate  DistanceFromHome    Education  EmployeeCount  \\\n",
       "count  1470.000000  1470.000000       1470.000000  1470.000000         1470.0   \n",
       "mean     36.923810   802.485714          9.192517     2.912925            1.0   \n",
       "std       9.135373   403.509100          8.106864     1.024165            0.0   \n",
       "min      18.000000   102.000000          1.000000     1.000000            1.0   \n",
       "25%      30.000000   465.000000          2.000000     2.000000            1.0   \n",
       "50%      36.000000   802.000000          7.000000     3.000000            1.0   \n",
       "75%      43.000000  1157.000000         14.000000     4.000000            1.0   \n",
       "max      60.000000  1499.000000         29.000000     5.000000            1.0   \n",
       "\n",
       "       EmployeeNumber  EnvironmentSatisfaction   HourlyRate  JobInvolvement  \\\n",
       "count     1470.000000              1470.000000  1470.000000     1470.000000   \n",
       "mean      1024.865306                 2.721769    65.891156        2.729932   \n",
       "std        602.024335                 1.093082    20.329428        0.711561   \n",
       "min          1.000000                 1.000000    30.000000        1.000000   \n",
       "25%        491.250000                 2.000000    48.000000        2.000000   \n",
       "50%       1020.500000                 3.000000    66.000000        3.000000   \n",
       "75%       1555.750000                 4.000000    83.750000        3.000000   \n",
       "max       2068.000000                 4.000000   100.000000        4.000000   \n",
       "\n",
       "          JobLevel  ...  RelationshipSatisfaction  StandardHours  \\\n",
       "count  1470.000000  ...               1470.000000         1470.0   \n",
       "mean      2.063946  ...                  2.712245           80.0   \n",
       "std       1.106940  ...                  1.081209            0.0   \n",
       "min       1.000000  ...                  1.000000           80.0   \n",
       "25%       1.000000  ...                  2.000000           80.0   \n",
       "50%       2.000000  ...                  3.000000           80.0   \n",
       "75%       3.000000  ...                  4.000000           80.0   \n",
       "max       5.000000  ...                  4.000000           80.0   \n",
       "\n",
       "       StockOptionLevel  TotalWorkingYears  TrainingTimesLastYear  \\\n",
       "count       1470.000000        1470.000000            1470.000000   \n",
       "mean           0.793878          11.279592               2.799320   \n",
       "std            0.852077           7.780782               1.289271   \n",
       "min            0.000000           0.000000               0.000000   \n",
       "25%            0.000000           6.000000               2.000000   \n",
       "50%            1.000000          10.000000               3.000000   \n",
       "75%            1.000000          15.000000               3.000000   \n",
       "max            3.000000          40.000000               6.000000   \n",
       "\n",
       "       WorkLifeBalance  YearsAtCompany  YearsInCurrentRole  \\\n",
       "count      1470.000000     1470.000000         1470.000000   \n",
       "mean          2.761224        7.008163            4.229252   \n",
       "std           0.706476        6.126525            3.623137   \n",
       "min           1.000000        0.000000            0.000000   \n",
       "25%           2.000000        3.000000            2.000000   \n",
       "50%           3.000000        5.000000            3.000000   \n",
       "75%           3.000000        9.000000            7.000000   \n",
       "max           4.000000       40.000000           18.000000   \n",
       "\n",
       "       YearsSinceLastPromotion  YearsWithCurrManager  \n",
       "count              1470.000000           1470.000000  \n",
       "mean                  2.187755              4.123129  \n",
       "std                   3.222430              3.568136  \n",
       "min                   0.000000              0.000000  \n",
       "25%                   0.000000              2.000000  \n",
       "50%                   1.000000              3.000000  \n",
       "75%                   3.000000              7.000000  \n",
       "max                  15.000000             17.000000  \n",
       "\n",
       "[8 rows x 26 columns]"
      ]
     },
     "execution_count": 17,
     "metadata": {},
     "output_type": "execute_result"
    }
   ],
   "source": [
    "# to describe the statistics of the dataset\n",
    "emp.describe()"
   ]
  },
  {
   "cell_type": "code",
   "execution_count": 18,
   "id": "f5b1f534-f66c-4339-a5ee-051cd502261c",
   "metadata": {},
   "outputs": [
    {
     "name": "stdout",
     "output_type": "stream",
     "text": [
      "<class 'pandas.core.frame.DataFrame'>\n",
      "RangeIndex: 1470 entries, 0 to 1469\n",
      "Data columns (total 35 columns):\n",
      " #   Column                    Non-Null Count  Dtype \n",
      "---  ------                    --------------  ----- \n",
      " 0   Age                       1470 non-null   int64 \n",
      " 1   Attrition                 1470 non-null   object\n",
      " 2   BusinessTravel            1470 non-null   object\n",
      " 3   DailyRate                 1470 non-null   int64 \n",
      " 4   Department                1470 non-null   object\n",
      " 5   DistanceFromHome          1470 non-null   int64 \n",
      " 6   Education                 1470 non-null   int64 \n",
      " 7   EducationField            1470 non-null   object\n",
      " 8   EmployeeCount             1470 non-null   int64 \n",
      " 9   EmployeeNumber            1470 non-null   int64 \n",
      " 10  EnvironmentSatisfaction   1470 non-null   int64 \n",
      " 11  Gender                    1470 non-null   object\n",
      " 12  HourlyRate                1470 non-null   int64 \n",
      " 13  JobInvolvement            1470 non-null   int64 \n",
      " 14  JobLevel                  1470 non-null   int64 \n",
      " 15  JobRole                   1470 non-null   object\n",
      " 16  JobSatisfaction           1470 non-null   int64 \n",
      " 17  MaritalStatus             1470 non-null   object\n",
      " 18  MonthlyIncome             1470 non-null   int64 \n",
      " 19  MonthlyRate               1470 non-null   int64 \n",
      " 20  NumCompaniesWorked        1470 non-null   int64 \n",
      " 21  Over18                    1470 non-null   object\n",
      " 22  OverTime                  1470 non-null   object\n",
      " 23  PercentSalaryHike         1470 non-null   int64 \n",
      " 24  PerformanceRating         1470 non-null   int64 \n",
      " 25  RelationshipSatisfaction  1470 non-null   int64 \n",
      " 26  StandardHours             1470 non-null   int64 \n",
      " 27  StockOptionLevel          1470 non-null   int64 \n",
      " 28  TotalWorkingYears         1470 non-null   int64 \n",
      " 29  TrainingTimesLastYear     1470 non-null   int64 \n",
      " 30  WorkLifeBalance           1470 non-null   int64 \n",
      " 31  YearsAtCompany            1470 non-null   int64 \n",
      " 32  YearsInCurrentRole        1470 non-null   int64 \n",
      " 33  YearsSinceLastPromotion   1470 non-null   int64 \n",
      " 34  YearsWithCurrManager      1470 non-null   int64 \n",
      "dtypes: int64(26), object(9)\n",
      "memory usage: 402.1+ KB\n"
     ]
    }
   ],
   "source": [
    "# to get the info from the dataset regarding the datatype along with other info of each attribute\n",
    "emp.info()"
   ]
  },
  {
   "cell_type": "markdown",
   "id": "d2512b35-20fc-4086-b0ef-286c02b00b47",
   "metadata": {},
   "source": [
    "## 5. Data Preparation"
   ]
  },
  {
   "cell_type": "markdown",
   "id": "d042ec5a-4695-4146-a5cf-03cff9e46162",
   "metadata": {},
   "source": [
    "### 5.1 Checking for null values"
   ]
  },
  {
   "cell_type": "code",
   "execution_count": 21,
   "id": "fc6a52f2-b6fa-4e9a-b201-d1e118433014",
   "metadata": {},
   "outputs": [
    {
     "data": {
      "text/plain": [
       "Age                         0\n",
       "Attrition                   0\n",
       "BusinessTravel              0\n",
       "DailyRate                   0\n",
       "Department                  0\n",
       "DistanceFromHome            0\n",
       "Education                   0\n",
       "EducationField              0\n",
       "EmployeeCount               0\n",
       "EmployeeNumber              0\n",
       "EnvironmentSatisfaction     0\n",
       "Gender                      0\n",
       "HourlyRate                  0\n",
       "JobInvolvement              0\n",
       "JobLevel                    0\n",
       "JobRole                     0\n",
       "JobSatisfaction             0\n",
       "MaritalStatus               0\n",
       "MonthlyIncome               0\n",
       "MonthlyRate                 0\n",
       "NumCompaniesWorked          0\n",
       "Over18                      0\n",
       "OverTime                    0\n",
       "PercentSalaryHike           0\n",
       "PerformanceRating           0\n",
       "RelationshipSatisfaction    0\n",
       "StandardHours               0\n",
       "StockOptionLevel            0\n",
       "TotalWorkingYears           0\n",
       "TrainingTimesLastYear       0\n",
       "WorkLifeBalance             0\n",
       "YearsAtCompany              0\n",
       "YearsInCurrentRole          0\n",
       "YearsSinceLastPromotion     0\n",
       "YearsWithCurrManager        0\n",
       "dtype: int64"
      ]
     },
     "execution_count": 21,
     "metadata": {},
     "output_type": "execute_result"
    }
   ],
   "source": [
    "emp.isnull().sum()"
   ]
  },
  {
   "cell_type": "markdown",
   "id": "fe19c70c-665f-4b48-9591-eb40823ef3cb",
   "metadata": {},
   "source": [
    "The dataset contains __no missing__ values."
   ]
  },
  {
   "cell_type": "code",
   "execution_count": 23,
   "id": "32f18a78-d601-4177-96a2-e7f5780b5987",
   "metadata": {},
   "outputs": [
    {
     "data": {
      "text/html": [
       "<div>\n",
       "<style scoped>\n",
       "    .dataframe tbody tr th:only-of-type {\n",
       "        vertical-align: middle;\n",
       "    }\n",
       "\n",
       "    .dataframe tbody tr th {\n",
       "        vertical-align: top;\n",
       "    }\n",
       "\n",
       "    .dataframe thead th {\n",
       "        text-align: right;\n",
       "    }\n",
       "</style>\n",
       "<table border=\"1\" class=\"dataframe\">\n",
       "  <thead>\n",
       "    <tr style=\"text-align: right;\">\n",
       "      <th></th>\n",
       "      <th>Age</th>\n",
       "      <th>Attrition</th>\n",
       "      <th>BusinessTravel</th>\n",
       "      <th>DailyRate</th>\n",
       "      <th>Department</th>\n",
       "      <th>DistanceFromHome</th>\n",
       "      <th>Education</th>\n",
       "      <th>EducationField</th>\n",
       "      <th>EmployeeCount</th>\n",
       "      <th>EmployeeNumber</th>\n",
       "      <th>...</th>\n",
       "      <th>RelationshipSatisfaction</th>\n",
       "      <th>StandardHours</th>\n",
       "      <th>StockOptionLevel</th>\n",
       "      <th>TotalWorkingYears</th>\n",
       "      <th>TrainingTimesLastYear</th>\n",
       "      <th>WorkLifeBalance</th>\n",
       "      <th>YearsAtCompany</th>\n",
       "      <th>YearsInCurrentRole</th>\n",
       "      <th>YearsSinceLastPromotion</th>\n",
       "      <th>YearsWithCurrManager</th>\n",
       "    </tr>\n",
       "  </thead>\n",
       "  <tbody>\n",
       "    <tr>\n",
       "      <th>0</th>\n",
       "      <td>41</td>\n",
       "      <td>Yes</td>\n",
       "      <td>Travel_Rarely</td>\n",
       "      <td>1102</td>\n",
       "      <td>Sales</td>\n",
       "      <td>1</td>\n",
       "      <td>2</td>\n",
       "      <td>Life Sciences</td>\n",
       "      <td>1</td>\n",
       "      <td>1</td>\n",
       "      <td>...</td>\n",
       "      <td>1</td>\n",
       "      <td>80</td>\n",
       "      <td>0</td>\n",
       "      <td>8</td>\n",
       "      <td>0</td>\n",
       "      <td>1</td>\n",
       "      <td>6</td>\n",
       "      <td>4</td>\n",
       "      <td>0</td>\n",
       "      <td>5</td>\n",
       "    </tr>\n",
       "    <tr>\n",
       "      <th>1</th>\n",
       "      <td>49</td>\n",
       "      <td>No</td>\n",
       "      <td>Travel_Frequently</td>\n",
       "      <td>279</td>\n",
       "      <td>Research &amp; Development</td>\n",
       "      <td>8</td>\n",
       "      <td>1</td>\n",
       "      <td>Life Sciences</td>\n",
       "      <td>1</td>\n",
       "      <td>2</td>\n",
       "      <td>...</td>\n",
       "      <td>4</td>\n",
       "      <td>80</td>\n",
       "      <td>1</td>\n",
       "      <td>10</td>\n",
       "      <td>3</td>\n",
       "      <td>3</td>\n",
       "      <td>10</td>\n",
       "      <td>7</td>\n",
       "      <td>1</td>\n",
       "      <td>7</td>\n",
       "    </tr>\n",
       "  </tbody>\n",
       "</table>\n",
       "<p>2 rows × 35 columns</p>\n",
       "</div>"
      ],
      "text/plain": [
       "   Age Attrition     BusinessTravel  DailyRate              Department  \\\n",
       "0   41       Yes      Travel_Rarely       1102                   Sales   \n",
       "1   49        No  Travel_Frequently        279  Research & Development   \n",
       "\n",
       "   DistanceFromHome  Education EducationField  EmployeeCount  EmployeeNumber  \\\n",
       "0                 1          2  Life Sciences              1               1   \n",
       "1                 8          1  Life Sciences              1               2   \n",
       "\n",
       "   ...  RelationshipSatisfaction StandardHours  StockOptionLevel  \\\n",
       "0  ...                         1            80                 0   \n",
       "1  ...                         4            80                 1   \n",
       "\n",
       "   TotalWorkingYears  TrainingTimesLastYear WorkLifeBalance  YearsAtCompany  \\\n",
       "0                  8                      0               1               6   \n",
       "1                 10                      3               3              10   \n",
       "\n",
       "  YearsInCurrentRole  YearsSinceLastPromotion  YearsWithCurrManager  \n",
       "0                  4                        0                     5  \n",
       "1                  7                        1                     7  \n",
       "\n",
       "[2 rows x 35 columns]"
      ]
     },
     "execution_count": 23,
     "metadata": {},
     "output_type": "execute_result"
    }
   ],
   "source": [
    "emp.head(2)"
   ]
  },
  {
   "cell_type": "markdown",
   "id": "1ff27e59-40e0-4f95-8e4b-3ae5cad15dd0",
   "metadata": {},
   "source": [
    "### 5.2 Exploring the columns"
   ]
  },
  {
   "cell_type": "code",
   "execution_count": 25,
   "id": "1d17cbeb-6bd3-4750-8b73-df74601625a4",
   "metadata": {},
   "outputs": [
    {
     "data": {
      "text/plain": [
       "Over18\n",
       "Y    1470\n",
       "Name: count, dtype: int64"
      ]
     },
     "execution_count": 25,
     "metadata": {},
     "output_type": "execute_result"
    }
   ],
   "source": [
    "emp['Over18'].value_counts()"
   ]
  },
  {
   "cell_type": "markdown",
   "id": "ab8b844a-a4d1-49ac-990e-98a0899dd762",
   "metadata": {},
   "source": [
    "All the employees are over 18. But this column is not going to contribute in visualization or modeling hence, dropping this column."
   ]
  },
  {
   "cell_type": "markdown",
   "id": "8254e7e0-1f5c-4108-af20-f5236555ad79",
   "metadata": {},
   "source": [
    "Similarly, __StandardHours, EmployeeCount__ column is not showing variation in the values. Hence, we can drop it."
   ]
  },
  {
   "cell_type": "markdown",
   "id": "eb6320b9-2267-41f5-9caa-7e68b358bdfe",
   "metadata": {},
   "source": [
    "Additionally, we noticed __multiple salary-related features__ (HourlyRate, DailyRate, MonthlyRate, MonthlyIncome). We'll concentrate on one of these and eliminate the others"
   ]
  },
  {
   "cell_type": "code",
   "execution_count": 29,
   "id": "432a75c6-0459-4ff5-a72b-44d105cc8746",
   "metadata": {},
   "outputs": [
    {
     "data": {
      "text/plain": [
       "EmployeeCount\n",
       "1    1470\n",
       "Name: count, dtype: int64"
      ]
     },
     "execution_count": 29,
     "metadata": {},
     "output_type": "execute_result"
    }
   ],
   "source": [
    "emp['EmployeeCount'].value_counts()"
   ]
  },
  {
   "cell_type": "code",
   "execution_count": 30,
   "id": "a9691024-c0f1-4faa-841b-ffefdd4d4c83",
   "metadata": {},
   "outputs": [],
   "source": [
    "emp = emp.drop(['Over18', 'EmployeeCount', 'HourlyRate','DailyRate','MonthlyRate', 'StandardHours'], axis = 1)"
   ]
  },
  {
   "cell_type": "code",
   "execution_count": 31,
   "id": "2ba5a696-4515-4cdf-9320-eedbf3006b01",
   "metadata": {},
   "outputs": [
    {
     "data": {
      "text/plain": [
       "(1470, 29)"
      ]
     },
     "execution_count": 31,
     "metadata": {},
     "output_type": "execute_result"
    }
   ],
   "source": [
    "emp.shape"
   ]
  },
  {
   "cell_type": "code",
   "execution_count": 32,
   "id": "f03e4674-9187-48d4-ba51-0b90ec1ee628",
   "metadata": {},
   "outputs": [
    {
     "data": {
      "text/plain": [
       "BusinessTravel\n",
       "Travel_Rarely        1043\n",
       "Travel_Frequently     277\n",
       "Non-Travel            150\n",
       "Name: count, dtype: int64"
      ]
     },
     "execution_count": 32,
     "metadata": {},
     "output_type": "execute_result"
    }
   ],
   "source": [
    "emp['BusinessTravel'].value_counts()"
   ]
  },
  {
   "cell_type": "markdown",
   "id": "de2a5ad0-f9cf-4c85-a47e-027c1ddcf17c",
   "metadata": {},
   "source": [
    "Around __1043__ of the employees travelled rarely. "
   ]
  },
  {
   "cell_type": "code",
   "execution_count": 34,
   "id": "79b043c1-bd48-430e-8ede-09fbdc755c90",
   "metadata": {},
   "outputs": [
    {
     "data": {
      "text/plain": [
       "Department\n",
       "Research & Development    961\n",
       "Sales                     446\n",
       "Human Resources            63\n",
       "Name: count, dtype: int64"
      ]
     },
     "execution_count": 34,
     "metadata": {},
     "output_type": "execute_result"
    }
   ],
   "source": [
    "emp['Department'].value_counts()"
   ]
  },
  {
   "cell_type": "code",
   "execution_count": 35,
   "id": "f44bc869-18ac-4826-89fd-f3286c53e15a",
   "metadata": {},
   "outputs": [
    {
     "data": {
      "text/plain": [
       "EducationField\n",
       "Life Sciences       606\n",
       "Medical             464\n",
       "Marketing           159\n",
       "Technical Degree    132\n",
       "Other                82\n",
       "Human Resources      27\n",
       "Name: count, dtype: int64"
      ]
     },
     "execution_count": 35,
     "metadata": {},
     "output_type": "execute_result"
    }
   ],
   "source": [
    "emp['EducationField'].value_counts()"
   ]
  },
  {
   "cell_type": "markdown",
   "id": "d78a22a2-938b-4951-89a6-ae4e6cad5ddb",
   "metadata": {},
   "source": [
    "Most of the employees are from __Life Sciences__ and __Medical__ field. Nearly, __606__ and __464__ respectively."
   ]
  },
  {
   "cell_type": "code",
   "execution_count": 37,
   "id": "1fc22e0c-928b-42eb-a582-c6165807f9ac",
   "metadata": {},
   "outputs": [
    {
     "data": {
      "text/plain": [
       "JobRole\n",
       "Sales Executive              326\n",
       "Research Scientist           292\n",
       "Laboratory Technician        259\n",
       "Manufacturing Director       145\n",
       "Healthcare Representative    131\n",
       "Manager                      102\n",
       "Sales Representative          83\n",
       "Research Director             80\n",
       "Human Resources               52\n",
       "Name: count, dtype: int64"
      ]
     },
     "execution_count": 37,
     "metadata": {},
     "output_type": "execute_result"
    }
   ],
   "source": [
    "emp['JobRole'].value_counts()"
   ]
  },
  {
   "cell_type": "markdown",
   "id": "36b8dd3e-e97b-4dc7-babd-3b134bf361b1",
   "metadata": {},
   "source": [
    "__Sales Executive__ has maximum number of employee"
   ]
  },
  {
   "cell_type": "code",
   "execution_count": 39,
   "id": "e9d3764d-f289-48a2-8ec3-d754799c3e1a",
   "metadata": {},
   "outputs": [
    {
     "data": {
      "text/plain": [
       "MaritalStatus\n",
       "Married     673\n",
       "Single      470\n",
       "Divorced    327\n",
       "Name: count, dtype: int64"
      ]
     },
     "execution_count": 39,
     "metadata": {},
     "output_type": "execute_result"
    }
   ],
   "source": [
    "emp['MaritalStatus'].value_counts()"
   ]
  },
  {
   "cell_type": "markdown",
   "id": "9930760e-150c-4e2d-ab7b-c046feaecfed",
   "metadata": {},
   "source": [
    "Across all ages around __673__ employees were married."
   ]
  },
  {
   "cell_type": "code",
   "execution_count": 41,
   "id": "e2a22252-585e-4c39-8820-54ac67ec94ec",
   "metadata": {},
   "outputs": [
    {
     "data": {
      "text/plain": [
       "Department\n",
       "Research & Development    961\n",
       "Sales                     446\n",
       "Human Resources            63\n",
       "Name: count, dtype: int64"
      ]
     },
     "execution_count": 41,
     "metadata": {},
     "output_type": "execute_result"
    }
   ],
   "source": [
    "emp['Department'].value_counts()"
   ]
  },
  {
   "cell_type": "markdown",
   "id": "7943b34d-6f0e-4029-98cf-55f60664a266",
   "metadata": {},
   "source": [
    "Most of the employees are from __Research & Development__ department"
   ]
  },
  {
   "cell_type": "markdown",
   "id": "3228159f-cd35-4515-a3a5-c30635332ee7",
   "metadata": {},
   "source": [
    "_Creation of __age groups__ from __age attribute__ to understand which age group is more __concentrated__ in the office._"
   ]
  },
  {
   "cell_type": "code",
   "execution_count": 44,
   "id": "3eeddcf6-981c-4c7c-9f1f-8052931510a2",
   "metadata": {},
   "outputs": [],
   "source": [
    "# Age groups\n",
    "emp['AgeGroup'] = pd.cut(emp['Age'], \n",
    "                       bins=[18, 28, 39, 50, 100],\n",
    "                       labels=['18-28', '29-39', '40-50', 'more than 50'])"
   ]
  },
  {
   "cell_type": "code",
   "execution_count": 45,
   "id": "10b68df0-b8ec-47d5-99dc-5591156fb421",
   "metadata": {},
   "outputs": [
    {
     "data": {
      "text/plain": [
       "AgeGroup\n",
       "29-39           690\n",
       "40-50           379\n",
       "18-28           250\n",
       "more than 50    143\n",
       "Name: count, dtype: int64"
      ]
     },
     "execution_count": 45,
     "metadata": {},
     "output_type": "execute_result"
    }
   ],
   "source": [
    "emp['AgeGroup'].value_counts()"
   ]
  },
  {
   "cell_type": "markdown",
   "id": "a62b404a-c764-43ab-9e98-ccb44b619958",
   "metadata": {},
   "source": [
    "Most of the emp fall under __29-39__ age group. "
   ]
  },
  {
   "cell_type": "markdown",
   "id": "10972613-e78b-425c-9309-18502e3ee4c5",
   "metadata": {},
   "source": [
    "_How many employees are in __promotion due__?_"
   ]
  },
  {
   "cell_type": "code",
   "execution_count": 48,
   "id": "0a59b0a0-b7f4-4f84-97cd-2ac02dca11d1",
   "metadata": {},
   "outputs": [
    {
     "data": {
      "text/plain": [
       "PromotionDue\n",
       "False    1210\n",
       "True      260\n",
       "Name: count, dtype: int64"
      ]
     },
     "execution_count": 48,
     "metadata": {},
     "output_type": "execute_result"
    }
   ],
   "source": [
    "# Promotion due indicator for >= 5 years\n",
    "emp['PromotionDue'] = emp['YearsSinceLastPromotion'] >= 5\n",
    "emp['PromotionDue'].value_counts()"
   ]
  },
  {
   "cell_type": "markdown",
   "id": "7386c643-39a7-400b-81ff-9493ed9f4793",
   "metadata": {},
   "source": [
    "Total of __260__ employees are in promotion due."
   ]
  },
  {
   "cell_type": "code",
   "execution_count": 50,
   "id": "588d61e6-46cf-49f3-b2ec-410f8bdf94f2",
   "metadata": {},
   "outputs": [],
   "source": [
    "emp['PromotionDue'] = emp['PromotionDue'].astype('int32')"
   ]
  },
  {
   "cell_type": "markdown",
   "id": "8c01e06d-65eb-44cc-88eb-7e2800dfce43",
   "metadata": {},
   "source": [
    "_Manipulating __OverTime__ column. Changing 'yes' to 1 and 'No' to 0._"
   ]
  },
  {
   "cell_type": "code",
   "execution_count": 52,
   "id": "3a9fcc71-1394-498f-b345-69b51bc87e62",
   "metadata": {},
   "outputs": [
    {
     "data": {
      "text/plain": [
       "OverTime\n",
       "0    1054\n",
       "1     416\n",
       "Name: count, dtype: int64"
      ]
     },
     "execution_count": 52,
     "metadata": {},
     "output_type": "execute_result"
    }
   ],
   "source": [
    "emp['OverTime'] = pd.get_dummies(emp['OverTime'], drop_first = True)\n",
    "emp['OverTime'] = emp['OverTime'].astype('int32')\n",
    "emp['OverTime'].value_counts()"
   ]
  },
  {
   "cell_type": "code",
   "execution_count": 53,
   "id": "0bc49fe8-414e-4e31-9007-776c2593f6db",
   "metadata": {},
   "outputs": [
    {
     "data": {
      "text/html": [
       "<div>\n",
       "<style scoped>\n",
       "    .dataframe tbody tr th:only-of-type {\n",
       "        vertical-align: middle;\n",
       "    }\n",
       "\n",
       "    .dataframe tbody tr th {\n",
       "        vertical-align: top;\n",
       "    }\n",
       "\n",
       "    .dataframe thead th {\n",
       "        text-align: right;\n",
       "    }\n",
       "</style>\n",
       "<table border=\"1\" class=\"dataframe\">\n",
       "  <thead>\n",
       "    <tr style=\"text-align: right;\">\n",
       "      <th></th>\n",
       "      <th>Age</th>\n",
       "      <th>Attrition</th>\n",
       "      <th>BusinessTravel</th>\n",
       "      <th>Department</th>\n",
       "      <th>DistanceFromHome</th>\n",
       "      <th>Education</th>\n",
       "      <th>EducationField</th>\n",
       "      <th>EmployeeNumber</th>\n",
       "      <th>EnvironmentSatisfaction</th>\n",
       "      <th>Gender</th>\n",
       "      <th>...</th>\n",
       "      <th>StockOptionLevel</th>\n",
       "      <th>TotalWorkingYears</th>\n",
       "      <th>TrainingTimesLastYear</th>\n",
       "      <th>WorkLifeBalance</th>\n",
       "      <th>YearsAtCompany</th>\n",
       "      <th>YearsInCurrentRole</th>\n",
       "      <th>YearsSinceLastPromotion</th>\n",
       "      <th>YearsWithCurrManager</th>\n",
       "      <th>AgeGroup</th>\n",
       "      <th>PromotionDue</th>\n",
       "    </tr>\n",
       "  </thead>\n",
       "  <tbody>\n",
       "    <tr>\n",
       "      <th>0</th>\n",
       "      <td>41</td>\n",
       "      <td>Yes</td>\n",
       "      <td>Travel_Rarely</td>\n",
       "      <td>Sales</td>\n",
       "      <td>1</td>\n",
       "      <td>2</td>\n",
       "      <td>Life Sciences</td>\n",
       "      <td>1</td>\n",
       "      <td>2</td>\n",
       "      <td>Female</td>\n",
       "      <td>...</td>\n",
       "      <td>0</td>\n",
       "      <td>8</td>\n",
       "      <td>0</td>\n",
       "      <td>1</td>\n",
       "      <td>6</td>\n",
       "      <td>4</td>\n",
       "      <td>0</td>\n",
       "      <td>5</td>\n",
       "      <td>40-50</td>\n",
       "      <td>0</td>\n",
       "    </tr>\n",
       "    <tr>\n",
       "      <th>1</th>\n",
       "      <td>49</td>\n",
       "      <td>No</td>\n",
       "      <td>Travel_Frequently</td>\n",
       "      <td>Research &amp; Development</td>\n",
       "      <td>8</td>\n",
       "      <td>1</td>\n",
       "      <td>Life Sciences</td>\n",
       "      <td>2</td>\n",
       "      <td>3</td>\n",
       "      <td>Male</td>\n",
       "      <td>...</td>\n",
       "      <td>1</td>\n",
       "      <td>10</td>\n",
       "      <td>3</td>\n",
       "      <td>3</td>\n",
       "      <td>10</td>\n",
       "      <td>7</td>\n",
       "      <td>1</td>\n",
       "      <td>7</td>\n",
       "      <td>40-50</td>\n",
       "      <td>0</td>\n",
       "    </tr>\n",
       "    <tr>\n",
       "      <th>2</th>\n",
       "      <td>37</td>\n",
       "      <td>Yes</td>\n",
       "      <td>Travel_Rarely</td>\n",
       "      <td>Research &amp; Development</td>\n",
       "      <td>2</td>\n",
       "      <td>2</td>\n",
       "      <td>Other</td>\n",
       "      <td>4</td>\n",
       "      <td>4</td>\n",
       "      <td>Male</td>\n",
       "      <td>...</td>\n",
       "      <td>0</td>\n",
       "      <td>7</td>\n",
       "      <td>3</td>\n",
       "      <td>3</td>\n",
       "      <td>0</td>\n",
       "      <td>0</td>\n",
       "      <td>0</td>\n",
       "      <td>0</td>\n",
       "      <td>29-39</td>\n",
       "      <td>0</td>\n",
       "    </tr>\n",
       "    <tr>\n",
       "      <th>3</th>\n",
       "      <td>33</td>\n",
       "      <td>No</td>\n",
       "      <td>Travel_Frequently</td>\n",
       "      <td>Research &amp; Development</td>\n",
       "      <td>3</td>\n",
       "      <td>4</td>\n",
       "      <td>Life Sciences</td>\n",
       "      <td>5</td>\n",
       "      <td>4</td>\n",
       "      <td>Female</td>\n",
       "      <td>...</td>\n",
       "      <td>0</td>\n",
       "      <td>8</td>\n",
       "      <td>3</td>\n",
       "      <td>3</td>\n",
       "      <td>8</td>\n",
       "      <td>7</td>\n",
       "      <td>3</td>\n",
       "      <td>0</td>\n",
       "      <td>29-39</td>\n",
       "      <td>0</td>\n",
       "    </tr>\n",
       "    <tr>\n",
       "      <th>4</th>\n",
       "      <td>27</td>\n",
       "      <td>No</td>\n",
       "      <td>Travel_Rarely</td>\n",
       "      <td>Research &amp; Development</td>\n",
       "      <td>2</td>\n",
       "      <td>1</td>\n",
       "      <td>Medical</td>\n",
       "      <td>7</td>\n",
       "      <td>1</td>\n",
       "      <td>Male</td>\n",
       "      <td>...</td>\n",
       "      <td>1</td>\n",
       "      <td>6</td>\n",
       "      <td>3</td>\n",
       "      <td>3</td>\n",
       "      <td>2</td>\n",
       "      <td>2</td>\n",
       "      <td>2</td>\n",
       "      <td>2</td>\n",
       "      <td>18-28</td>\n",
       "      <td>0</td>\n",
       "    </tr>\n",
       "  </tbody>\n",
       "</table>\n",
       "<p>5 rows × 31 columns</p>\n",
       "</div>"
      ],
      "text/plain": [
       "   Age Attrition     BusinessTravel              Department  DistanceFromHome  \\\n",
       "0   41       Yes      Travel_Rarely                   Sales                 1   \n",
       "1   49        No  Travel_Frequently  Research & Development                 8   \n",
       "2   37       Yes      Travel_Rarely  Research & Development                 2   \n",
       "3   33        No  Travel_Frequently  Research & Development                 3   \n",
       "4   27        No      Travel_Rarely  Research & Development                 2   \n",
       "\n",
       "   Education EducationField  EmployeeNumber  EnvironmentSatisfaction  Gender  \\\n",
       "0          2  Life Sciences               1                        2  Female   \n",
       "1          1  Life Sciences               2                        3    Male   \n",
       "2          2          Other               4                        4    Male   \n",
       "3          4  Life Sciences               5                        4  Female   \n",
       "4          1        Medical               7                        1    Male   \n",
       "\n",
       "   ...  StockOptionLevel  TotalWorkingYears TrainingTimesLastYear  \\\n",
       "0  ...                 0                  8                     0   \n",
       "1  ...                 1                 10                     3   \n",
       "2  ...                 0                  7                     3   \n",
       "3  ...                 0                  8                     3   \n",
       "4  ...                 1                  6                     3   \n",
       "\n",
       "   WorkLifeBalance YearsAtCompany  YearsInCurrentRole  \\\n",
       "0                1              6                   4   \n",
       "1                3             10                   7   \n",
       "2                3              0                   0   \n",
       "3                3              8                   7   \n",
       "4                3              2                   2   \n",
       "\n",
       "   YearsSinceLastPromotion  YearsWithCurrManager  AgeGroup  PromotionDue  \n",
       "0                        0                     5     40-50             0  \n",
       "1                        1                     7     40-50             0  \n",
       "2                        0                     0     29-39             0  \n",
       "3                        3                     0     29-39             0  \n",
       "4                        2                     2     18-28             0  \n",
       "\n",
       "[5 rows x 31 columns]"
      ]
     },
     "execution_count": 53,
     "metadata": {},
     "output_type": "execute_result"
    }
   ],
   "source": [
    "emp.head(5)"
   ]
  },
  {
   "cell_type": "markdown",
   "id": "36ee0244-2561-4815-a7d4-52c5ad3d2d99",
   "metadata": {},
   "source": [
    "## 6. Exploratory Data Analysis"
   ]
  },
  {
   "cell_type": "markdown",
   "id": "f9301d5d-fee0-4f59-87e8-4ad421d19711",
   "metadata": {},
   "source": [
    "_How many __employees__ left the company?_"
   ]
  },
  {
   "cell_type": "code",
   "execution_count": 56,
   "id": "6c1c3780-e36d-42c8-b667-e3f0609b7dce",
   "metadata": {},
   "outputs": [
    {
     "data": {
      "text/plain": [
       "Attrition\n",
       "No     1233\n",
       "Yes     237\n",
       "Name: count, dtype: int64"
      ]
     },
     "execution_count": 56,
     "metadata": {},
     "output_type": "execute_result"
    }
   ],
   "source": [
    "attrition = emp['Attrition'].value_counts()\n",
    "attrition"
   ]
  },
  {
   "cell_type": "code",
   "execution_count": 57,
   "id": "08e370f9-b647-4952-b795-c3498ea9c2ed",
   "metadata": {},
   "outputs": [
    {
     "data": {
      "text/plain": [
       "<Figure size 400x500 with 0 Axes>"
      ]
     },
     "execution_count": 57,
     "metadata": {},
     "output_type": "execute_result"
    },
    {
     "data": {
      "text/plain": [
       "<BarContainer object of 2 artists>"
      ]
     },
     "execution_count": 57,
     "metadata": {},
     "output_type": "execute_result"
    },
    {
     "data": {
      "text/plain": [
       "<matplotlib.legend.Legend at 0x2c5d2cf03e0>"
      ]
     },
     "execution_count": 57,
     "metadata": {},
     "output_type": "execute_result"
    },
    {
     "data": {
      "text/plain": [
       "Text(0.5, 1.0, 'Number of employees left')"
      ]
     },
     "execution_count": 57,
     "metadata": {},
     "output_type": "execute_result"
    },
    {
     "data": {
      "text/plain": [
       "Text(0.5, 0, 'Attrition')"
      ]
     },
     "execution_count": 57,
     "metadata": {},
     "output_type": "execute_result"
    },
    {
     "data": {
      "text/plain": [
       "Text(0, 0.5, 'Count of Attrition')"
      ]
     },
     "execution_count": 57,
     "metadata": {},
     "output_type": "execute_result"
    },
    {
     "data": {
      "image/png": "[encoded data removed]",
      "text/plain": [
       "<Figure size 400x500 with 1 Axes>"
      ]
     },
     "metadata": {},
     "output_type": "display_data"
    }
   ],
   "source": [
    "plt.figure(figsize=(4, 5))\n",
    "plt.style.use('ggplot')\n",
    "plt.bar(attrition.index, attrition.values, width = 0.3, color = 'green', label = 'Attrition')\n",
    "plt.legend()\n",
    "plt.title(\"Number of employees left\")\n",
    "plt.xlabel('Attrition')\n",
    "plt.ylabel(\"Count of Attrition\")"
   ]
  },
  {
   "cell_type": "markdown",
   "id": "a1d60dc8-aeb0-49be-9378-29a7d5871630",
   "metadata": {},
   "source": [
    "Nearly __237__ employees left the company. "
   ]
  },
  {
   "cell_type": "markdown",
   "id": "f3521d1f-4d83-44f2-a7df-107fb8f533a8",
   "metadata": {},
   "source": [
    "_To explore more as to how many __males and females__ left the company?_"
   ]
  },
  {
   "cell_type": "code",
   "execution_count": 60,
   "id": "5b81c226-b8d4-4bb3-abbd-7726bdf4d029",
   "metadata": {},
   "outputs": [
    {
     "data": {
      "text/plain": [
       "Gender\n",
       "Male      882\n",
       "Female    588\n",
       "Name: count, dtype: int64"
      ]
     },
     "execution_count": 60,
     "metadata": {},
     "output_type": "execute_result"
    }
   ],
   "source": [
    "gender = emp['Gender'].value_counts()\n",
    "gender"
   ]
  },
  {
   "cell_type": "markdown",
   "id": "2829bc66-c941-4f8c-85f3-efccd1e7821b",
   "metadata": {},
   "source": [
    "There were __more males__ than females employee in the company"
   ]
  },
  {
   "cell_type": "code",
   "execution_count": 62,
   "id": "48e3e901-28c3-44ad-b253-b658bdde947c",
   "metadata": {},
   "outputs": [],
   "source": [
    "attrition_yes = emp[emp['Attrition'] == 'Yes']"
   ]
  },
  {
   "cell_type": "code",
   "execution_count": 63,
   "id": "e929aafe-8470-4a56-9b06-7267ab2b60c1",
   "metadata": {},
   "outputs": [
    {
     "data": {
      "text/html": [
       "<div>\n",
       "<style scoped>\n",
       "    .dataframe tbody tr th:only-of-type {\n",
       "        vertical-align: middle;\n",
       "    }\n",
       "\n",
       "    .dataframe tbody tr th {\n",
       "        vertical-align: top;\n",
       "    }\n",
       "\n",
       "    .dataframe thead th {\n",
       "        text-align: right;\n",
       "    }\n",
       "</style>\n",
       "<table border=\"1\" class=\"dataframe\">\n",
       "  <thead>\n",
       "    <tr style=\"text-align: right;\">\n",
       "      <th></th>\n",
       "      <th>Attrition</th>\n",
       "    </tr>\n",
       "    <tr>\n",
       "      <th>Gender</th>\n",
       "      <th></th>\n",
       "    </tr>\n",
       "  </thead>\n",
       "  <tbody>\n",
       "    <tr>\n",
       "      <th>Female</th>\n",
       "      <td>87</td>\n",
       "    </tr>\n",
       "    <tr>\n",
       "      <th>Male</th>\n",
       "      <td>150</td>\n",
       "    </tr>\n",
       "  </tbody>\n",
       "</table>\n",
       "</div>"
      ],
      "text/plain": [
       "        Attrition\n",
       "Gender           \n",
       "Female         87\n",
       "Male          150"
      ]
     },
     "execution_count": 63,
     "metadata": {},
     "output_type": "execute_result"
    }
   ],
   "source": [
    "gender_group = attrition_yes.groupby('Gender').agg({'Attrition' : 'count'})\n",
    "gender_group"
   ]
  },
  {
   "cell_type": "code",
   "execution_count": 64,
   "id": "9875cfa7-bcc6-4ea0-88f2-ec06c82fd4d3",
   "metadata": {},
   "outputs": [
    {
     "data": {
      "text/plain": [
       "<Axes: xlabel='Gender'>"
      ]
     },
     "execution_count": 64,
     "metadata": {},
     "output_type": "execute_result"
    },
    {
     "data": {
      "text/plain": [
       "(array([0, 1]), [Text(0, 0, 'Female'), Text(1, 0, 'Male')])"
      ]
     },
     "execution_count": 64,
     "metadata": {},
     "output_type": "execute_result"
    },
    {
     "data": {
      "text/plain": [
       "([<matplotlib.axis.YTick at 0x2c5d2defa10>,\n",
       "  <matplotlib.axis.YTick at 0x2c5d2defe30>,\n",
       "  <matplotlib.axis.YTick at 0x2c5d2def920>,\n",
       "  <matplotlib.axis.YTick at 0x2c5d3517650>,\n",
       "  <matplotlib.axis.YTick at 0x2c5d3515f40>,\n",
       "  <matplotlib.axis.YTick at 0x2c5d3517a40>,\n",
       "  <matplotlib.axis.YTick at 0x2c5d35343e0>,\n",
       "  <matplotlib.axis.YTick at 0x2c5d3534da0>,\n",
       "  <matplotlib.axis.YTick at 0x2c5d3535700>],\n",
       " [Text(0, 0, '0'),\n",
       "  Text(0, 20, '20'),\n",
       "  Text(0, 40, '40'),\n",
       "  Text(0, 60, '60'),\n",
       "  Text(0, 80, '80'),\n",
       "  Text(0, 100, '100'),\n",
       "  Text(0, 120, '120'),\n",
       "  Text(0, 140, '140'),\n",
       "  Text(0, 160, '160')])"
      ]
     },
     "execution_count": 64,
     "metadata": {},
     "output_type": "execute_result"
    },
    {
     "data": {
      "text/plain": [
       "Text(0, 0.5, '# of employees left')"
      ]
     },
     "execution_count": 64,
     "metadata": {},
     "output_type": "execute_result"
    },
    {
     "data": {
      "text/plain": [
       "Text(0.5, 1.0, 'Gender Attrition')"
      ]
     },
     "execution_count": 64,
     "metadata": {},
     "output_type": "execute_result"
    },
    {
     "data": {
      "image/png": "[encoded data removed]",
      "text/plain": [
       "<Figure size 400x500 with 1 Axes>"
      ]
     },
     "metadata": {},
     "output_type": "display_data"
    }
   ],
   "source": [
    "gender_group.plot(kind = 'bar', color = 'darkblue', figsize=(4, 5))\n",
    "plt.xticks(rotation = 0)\n",
    "plt.yticks(np.arange(0, 180, 20))\n",
    "plt.ylabel(\"# of employees left\")\n",
    "plt.title(\"Gender Attrition\")"
   ]
  },
  {
   "cell_type": "markdown",
   "id": "6ca98de0-5fe1-4846-b6c0-2902c0f2804b",
   "metadata": {},
   "source": [
    "It is interesting to know that __more males__ than __females left__ the company. The proportion of __males__ was __150__ and __females__ were near to __87__."
   ]
  },
  {
   "cell_type": "markdown",
   "id": "fe35379c-85e1-4e59-a58a-ad37f65b4abe",
   "metadata": {},
   "source": [
    "_Which __age group__ was prone to leave the company?_"
   ]
  },
  {
   "cell_type": "code",
   "execution_count": 67,
   "id": "77a41e72-542a-48b0-ba0a-5d2c628f2810",
   "metadata": {},
   "outputs": [
    {
     "data": {
      "text/plain": [
       "AgeGroup\n",
       "29-39           690\n",
       "40-50           379\n",
       "18-28           250\n",
       "more than 50    143\n",
       "Name: count, dtype: int64"
      ]
     },
     "execution_count": 67,
     "metadata": {},
     "output_type": "execute_result"
    }
   ],
   "source": [
    "emp['AgeGroup'].value_counts()"
   ]
  },
  {
   "cell_type": "code",
   "execution_count": 68,
   "id": "d1a9036a-f3d8-431b-ab9e-f7f9459b54d8",
   "metadata": {},
   "outputs": [
    {
     "data": {
      "text/html": [
       "<div>\n",
       "<style scoped>\n",
       "    .dataframe tbody tr th:only-of-type {\n",
       "        vertical-align: middle;\n",
       "    }\n",
       "\n",
       "    .dataframe tbody tr th {\n",
       "        vertical-align: top;\n",
       "    }\n",
       "\n",
       "    .dataframe thead th {\n",
       "        text-align: right;\n",
       "    }\n",
       "</style>\n",
       "<table border=\"1\" class=\"dataframe\">\n",
       "  <thead>\n",
       "    <tr style=\"text-align: right;\">\n",
       "      <th></th>\n",
       "      <th>Attrition</th>\n",
       "    </tr>\n",
       "    <tr>\n",
       "      <th>AgeGroup</th>\n",
       "      <th></th>\n",
       "    </tr>\n",
       "  </thead>\n",
       "  <tbody>\n",
       "    <tr>\n",
       "      <th>18-28</th>\n",
       "      <td>69</td>\n",
       "    </tr>\n",
       "    <tr>\n",
       "      <th>29-39</th>\n",
       "      <td>107</td>\n",
       "    </tr>\n",
       "    <tr>\n",
       "      <th>40-50</th>\n",
       "      <td>39</td>\n",
       "    </tr>\n",
       "    <tr>\n",
       "      <th>more than 50</th>\n",
       "      <td>18</td>\n",
       "    </tr>\n",
       "  </tbody>\n",
       "</table>\n",
       "</div>"
      ],
      "text/plain": [
       "              Attrition\n",
       "AgeGroup               \n",
       "18-28                69\n",
       "29-39               107\n",
       "40-50                39\n",
       "more than 50         18"
      ]
     },
     "execution_count": 68,
     "metadata": {},
     "output_type": "execute_result"
    }
   ],
   "source": [
    "age_group = attrition_yes.groupby('AgeGroup', observed = False).agg({'Attrition' : 'count'})\n",
    "age_group"
   ]
  },
  {
   "cell_type": "code",
   "execution_count": 69,
   "id": "c4aa85bf-bb61-45d8-ac6b-172e2987515d",
   "metadata": {},
   "outputs": [
    {
     "data": {
      "text/plain": [
       "<Axes: xlabel='AgeGroup'>"
      ]
     },
     "execution_count": 69,
     "metadata": {},
     "output_type": "execute_result"
    },
    {
     "data": {
      "text/plain": [
       "(array([0, 1, 2, 3]),\n",
       " [Text(0, 0, '18-28'),\n",
       "  Text(1, 0, '29-39'),\n",
       "  Text(2, 0, '40-50'),\n",
       "  Text(3, 0, 'more than 50')])"
      ]
     },
     "execution_count": 69,
     "metadata": {},
     "output_type": "execute_result"
    },
    {
     "data": {
      "text/plain": [
       "Text(0, 0.5, '# of employees left')"
      ]
     },
     "execution_count": 69,
     "metadata": {},
     "output_type": "execute_result"
    },
    {
     "data": {
      "text/plain": [
       "Text(0.5, 1.0, 'Age group Attrition')"
      ]
     },
     "execution_count": 69,
     "metadata": {},
     "output_type": "execute_result"
    },
    {
     "data": {
      "image/png": "[encoded data removed]",
      "text/plain": [
       "<Figure size 400x500 with 1 Axes>"
      ]
     },
     "metadata": {},
     "output_type": "display_data"
    }
   ],
   "source": [
    "age_group.plot(kind = 'bar', color = 'darkred', figsize=(4, 5))\n",
    "plt.xticks(rotation = 0)\n",
    "#plt.yticks(np.arange(0, 180, 20))\n",
    "plt.ylabel(\"# of employees left\")\n",
    "plt.title(\"Age group Attrition\")"
   ]
  },
  {
   "cell_type": "markdown",
   "id": "e6d5974c-80ec-449b-b286-c4b75ef9edbf",
   "metadata": {},
   "source": [
    "__29-39 age group__ is more suseptible to leave the company."
   ]
  },
  {
   "cell_type": "markdown",
   "id": "0a2fa002-9cf3-425c-8000-dd36546435bc",
   "metadata": {},
   "source": [
    "_Exploring why 29-39 age group has more employees who left the company._"
   ]
  },
  {
   "cell_type": "markdown",
   "id": "e9196684-c485-4307-862c-462e0d088992",
   "metadata": {},
   "source": [
    "_Checking if they were __married__. This will help to understand if their reason was due to marriage life_"
   ]
  },
  {
   "cell_type": "code",
   "execution_count": 73,
   "id": "85871925-20dc-42c9-98bc-1904662e49d0",
   "metadata": {},
   "outputs": [
    {
     "data": {
      "text/plain": [
       "MaritalStatus\n",
       "Single      120\n",
       "Married      84\n",
       "Divorced     33\n",
       "Name: count, dtype: int64"
      ]
     },
     "execution_count": 73,
     "metadata": {},
     "output_type": "execute_result"
    }
   ],
   "source": [
    "# using attrition_yes where attrition has happened.\n",
    "attrition_yes['MaritalStatus'].value_counts()"
   ]
  },
  {
   "cell_type": "markdown",
   "id": "d1691d93-a6f9-41d1-bdd1-e8173016906c",
   "metadata": {},
   "source": [
    "_What was the __marital status__ of the employees who left the company whose age group was __29-39__? Who were more prone to leave, __Singles, Married, Divorced__?_"
   ]
  },
  {
   "cell_type": "code",
   "execution_count": 75,
   "id": "96b1029b-28b0-47d4-b54b-f1a7914a6eb9",
   "metadata": {},
   "outputs": [],
   "source": [
    "married_status = attrition_yes.groupby('MaritalStatus').agg({'Attrition' : 'count'})"
   ]
  },
  {
   "cell_type": "code",
   "execution_count": 76,
   "id": "5ff39c04-186b-46b2-9873-5ee408435513",
   "metadata": {},
   "outputs": [
    {
     "data": {
      "text/plain": [
       "<Axes: xlabel='MaritalStatus'>"
      ]
     },
     "execution_count": 76,
     "metadata": {},
     "output_type": "execute_result"
    },
    {
     "data": {
      "text/plain": [
       "(array([0, 1, 2]),\n",
       " [Text(0, 0, 'Divorced'), Text(1, 0, 'Married'), Text(2, 0, 'Single')])"
      ]
     },
     "execution_count": 76,
     "metadata": {},
     "output_type": "execute_result"
    },
    {
     "data": {
      "text/plain": [
       "Text(0, 0.5, '# of employees left')"
      ]
     },
     "execution_count": 76,
     "metadata": {},
     "output_type": "execute_result"
    },
    {
     "data": {
      "text/plain": [
       "Text(0.5, 1.0, '29-39 age group attrition')"
      ]
     },
     "execution_count": 76,
     "metadata": {},
     "output_type": "execute_result"
    },
    {
     "data": {
      "image/png": "[encoded data removed]",
      "text/plain": [
       "<Figure size 400x500 with 1 Axes>"
      ]
     },
     "metadata": {},
     "output_type": "display_data"
    }
   ],
   "source": [
    "married_status.plot(kind = 'bar', color = 'purple', figsize=(4, 5))\n",
    "plt.xticks(rotation = 0)\n",
    "plt.ylabel(\"# of employees left\")\n",
    "plt.title(\"29-39 age group attrition\")"
   ]
  },
  {
   "cell_type": "markdown",
   "id": "3bd82ffb-6612-4935-811d-5a9322459543",
   "metadata": {},
   "source": [
    "From the age group __29-39__, employees with martial status of __Single__ were more prone to leave the company. Nearly, __120 Single__ employees left the company followed by __married__ employees of around __84__."
   ]
  },
  {
   "cell_type": "markdown",
   "id": "75504720-3fa1-482f-8f58-5e6fe506f103",
   "metadata": {},
   "source": [
    "_Which __department__ suffered the loss of employees?_"
   ]
  },
  {
   "cell_type": "code",
   "execution_count": 79,
   "id": "4cec7bb2-b4fc-4c75-8ea2-b0b600d9cdca",
   "metadata": {},
   "outputs": [],
   "source": [
    "departmental_loss = attrition_yes['Department'].value_counts()"
   ]
  },
  {
   "cell_type": "code",
   "execution_count": 80,
   "id": "125962f5-b2fd-4414-ac6f-93759bbcbc98",
   "metadata": {},
   "outputs": [
    {
     "data": {
      "text/plain": [
       "<Figure size 400x500 with 0 Axes>"
      ]
     },
     "execution_count": 80,
     "metadata": {},
     "output_type": "execute_result"
    },
    {
     "data": {
      "text/plain": [
       "<BarContainer object of 3 artists>"
      ]
     },
     "execution_count": 80,
     "metadata": {},
     "output_type": "execute_result"
    },
    {
     "data": {
      "text/plain": [
       "<matplotlib.legend.Legend at 0x2c5d3536690>"
      ]
     },
     "execution_count": 80,
     "metadata": {},
     "output_type": "execute_result"
    },
    {
     "data": {
      "text/plain": [
       "([<matplotlib.axis.YTick at 0x2c5d35cc620>,\n",
       "  <matplotlib.axis.YTick at 0x2c5d36522a0>,\n",
       "  <matplotlib.axis.YTick at 0x2c5d36518b0>,\n",
       "  <matplotlib.axis.YTick at 0x2c5d3652f00>,\n",
       "  <matplotlib.axis.YTick at 0x2c5d3677f50>,\n",
       "  <matplotlib.axis.YTick at 0x2c5d36a4920>,\n",
       "  <matplotlib.axis.YTick at 0x2c5d3677860>,\n",
       "  <matplotlib.axis.YTick at 0x2c5d36a5430>],\n",
       " [Text(0, 0, '0'),\n",
       "  Text(0, 20, '20'),\n",
       "  Text(0, 40, '40'),\n",
       "  Text(0, 60, '60'),\n",
       "  Text(0, 80, '80'),\n",
       "  Text(0, 100, '100'),\n",
       "  Text(0, 120, '120'),\n",
       "  Text(0, 140, '140')])"
      ]
     },
     "execution_count": 80,
     "metadata": {},
     "output_type": "execute_result"
    },
    {
     "data": {
      "text/plain": [
       "Text(0.5, 1.0, 'Departmental loss of the Employees')"
      ]
     },
     "execution_count": 80,
     "metadata": {},
     "output_type": "execute_result"
    },
    {
     "data": {
      "text/plain": [
       "Text(0.5, 0, 'Department')"
      ]
     },
     "execution_count": 80,
     "metadata": {},
     "output_type": "execute_result"
    },
    {
     "data": {
      "text/plain": [
       "Text(0, 0.5, 'Count of Attrition')"
      ]
     },
     "execution_count": 80,
     "metadata": {},
     "output_type": "execute_result"
    },
    {
     "data": {
      "image/png": "[encoded data removed]",
      "text/plain": [
       "<Figure size 400x500 with 1 Axes>"
      ]
     },
     "metadata": {},
     "output_type": "display_data"
    }
   ],
   "source": [
    "plt.figure(figsize=(4, 5))\n",
    "plt.bar(departmental_loss.index, departmental_loss.values, width = 0.4, color = 'skyblue', label = 'Employee Left')\n",
    "plt.legend()\n",
    "plt.yticks(np.arange(0,160,20))\n",
    "plt.title(\"Departmental loss of the Employees\")\n",
    "plt.xlabel('Department')\n",
    "plt.ylabel(\"Count of Attrition\")"
   ]
  },
  {
   "cell_type": "markdown",
   "id": "d0bdd007-76f9-44ca-9903-755ba46837f3",
   "metadata": {},
   "source": [
    "__Research and Development__ department suffered the highest loss of employees."
   ]
  },
  {
   "cell_type": "markdown",
   "id": "63e7d80d-89b8-4752-8862-764a95c84f2f",
   "metadata": {},
   "source": [
    "_What was the __monthly income__ for the employees who left the organization?_"
   ]
  },
  {
   "cell_type": "code",
   "execution_count": 83,
   "id": "b136b0b1-8923-4e0b-bbed-959f7ff1e309",
   "metadata": {},
   "outputs": [
    {
     "data": {
      "text/plain": [
       "(array([107.,  49.,  29.,  15.,  20.,   7.,   5.,   0.,   0.,   5.]),\n",
       " array([ 1009.,  2894.,  4779.,  6664.,  8549., 10434., 12319., 14204.,\n",
       "        16089., 17974., 19859.]),\n",
       " <BarContainer object of 10 artists>)"
      ]
     },
     "execution_count": 83,
     "metadata": {},
     "output_type": "execute_result"
    },
    {
     "data": {
      "text/plain": [
       "<matplotlib.legend.Legend at 0x2c5d3517020>"
      ]
     },
     "execution_count": 83,
     "metadata": {},
     "output_type": "execute_result"
    },
    {
     "data": {
      "text/plain": [
       "Text(0.5, 1.0, 'Distribution of Monthly Income')"
      ]
     },
     "execution_count": 83,
     "metadata": {},
     "output_type": "execute_result"
    },
    {
     "data": {
      "text/plain": [
       "Text(0.5, 0, 'Monthly income')"
      ]
     },
     "execution_count": 83,
     "metadata": {},
     "output_type": "execute_result"
    },
    {
     "data": {
      "text/plain": [
       "Text(0, 0.5, 'Count')"
      ]
     },
     "execution_count": 83,
     "metadata": {},
     "output_type": "execute_result"
    },
    {
     "data": {
      "image/png": "[encoded data removed]",
      "text/plain": [
       "<Figure size 640x480 with 1 Axes>"
      ]
     },
     "metadata": {},
     "output_type": "display_data"
    }
   ],
   "source": [
    "plt.hist(attrition_yes['MonthlyIncome'], color = 'purple', label = 'Income')\n",
    "plt.legend()\n",
    "plt.title('Distribution of Monthly Income')\n",
    "plt.xlabel('Monthly income')\n",
    "plt.ylabel(\"Count\")"
   ]
  },
  {
   "cell_type": "markdown",
   "id": "7bb4a4a7-e9ba-47da-a572-83ee836b75e2",
   "metadata": {},
   "source": [
    "The monthly income of employees were very less around __1000-3000__. Only few employees have an income above __17500__. Those can be Specialist, expert, team lead."
   ]
  },
  {
   "cell_type": "markdown",
   "id": "8ef28a2b-6030-4d9e-a8db-006103c15bf5",
   "metadata": {},
   "source": [
    "_What was the __total working years__ of each employees who left the company?_"
   ]
  },
  {
   "cell_type": "code",
   "execution_count": 86,
   "id": "a31a294c-5a88-4ad5-9325-1e354044e152",
   "metadata": {},
   "outputs": [
    {
     "data": {
      "text/plain": [
       "<matplotlib.collections.PathCollection at 0x2c5d35cdf40>"
      ]
     },
     "execution_count": 86,
     "metadata": {},
     "output_type": "execute_result"
    },
    {
     "data": {
      "text/plain": [
       "Text(0.5, 0, 'Employee Number')"
      ]
     },
     "execution_count": 86,
     "metadata": {},
     "output_type": "execute_result"
    },
    {
     "data": {
      "text/plain": [
       "Text(0, 0.5, '# of WorkingYears')"
      ]
     },
     "execution_count": 86,
     "metadata": {},
     "output_type": "execute_result"
    },
    {
     "data": {
      "text/plain": [
       "Text(0.5, 1.0, 'Total working years for employees')"
      ]
     },
     "execution_count": 86,
     "metadata": {},
     "output_type": "execute_result"
    },
    {
     "data": {
      "image/png": "[encoded data removed]",
      "text/plain": [
       "<Figure size 640x480 with 1 Axes>"
      ]
     },
     "metadata": {},
     "output_type": "display_data"
    }
   ],
   "source": [
    "plt.scatter(attrition_yes['EmployeeNumber'], attrition_yes['TotalWorkingYears'])\n",
    "plt.xlabel('Employee Number')\n",
    "plt.ylabel('# of WorkingYears')\n",
    "plt.title('Total working years for employees')"
   ]
  },
  {
   "cell_type": "markdown",
   "id": "d7cb91dd-72a5-427d-a8d5-2c655fee7fea",
   "metadata": {},
   "source": [
    "This shows that most of the employees who left the company had a maximum of __1-10 years__ of experience. So was their attrition because they did not recieve the __promotion__? Was their promotion on due?"
   ]
  },
  {
   "cell_type": "markdown",
   "id": "b28d3619-86ff-43a4-b77e-ea6657e6bb7a",
   "metadata": {},
   "source": [
    "_Was the attrition because the employees did __not__ recieve their __promotion__?_"
   ]
  },
  {
   "cell_type": "code",
   "execution_count": 89,
   "id": "45ad7444-80ea-43c6-8984-ed3671f7496c",
   "metadata": {},
   "outputs": [
    {
     "data": {
      "text/plain": [
       "<Axes: xlabel='PromotionDue'>"
      ]
     },
     "execution_count": 89,
     "metadata": {},
     "output_type": "execute_result"
    },
    {
     "data": {
      "text/plain": [
       "(array([0, 1]), [Text(0, 0, '0'), Text(1, 0, '1')])"
      ]
     },
     "execution_count": 89,
     "metadata": {},
     "output_type": "execute_result"
    },
    {
     "data": {
      "text/plain": [
       "Text(0, 0.5, '# of employees left')"
      ]
     },
     "execution_count": 89,
     "metadata": {},
     "output_type": "execute_result"
    },
    {
     "data": {
      "text/plain": [
       "Text(0.5, 1.0, 'Attrition due to Promotion Due')"
      ]
     },
     "execution_count": 89,
     "metadata": {},
     "output_type": "execute_result"
    },
    {
     "data": {
      "image/png": "[encoded data removed]",
      "text/plain": [
       "<Figure size 400x500 with 1 Axes>"
      ]
     },
     "metadata": {},
     "output_type": "display_data"
    }
   ],
   "source": [
    "attrition_yes['PromotionDue'].value_counts().plot(kind = 'bar', color = 'darkorange', figsize=(4, 5))\n",
    "plt.xticks(rotation = 0)\n",
    "plt.ylabel(\"# of employees left\")\n",
    "plt.title(\"Attrition due to Promotion Due\")"
   ]
  },
  {
   "cell_type": "markdown",
   "id": "877e109b-4a18-4905-988b-a7131343a441",
   "metadata": {},
   "source": [
    "__Yes__, many employees, around __200__ did not recieve promotion which could have made them leave the company."
   ]
  },
  {
   "cell_type": "markdown",
   "id": "46beb1c3-7f8d-46ae-8bb8-c16b0df59f34",
   "metadata": {},
   "source": [
    "_How many __years__ did the employees contribute to the company before leaving?_"
   ]
  },
  {
   "cell_type": "code",
   "execution_count": 92,
   "id": "5a86c887-3b3a-4061-8d44-d7a4626ac4bd",
   "metadata": {},
   "outputs": [
    {
     "data": {
      "text/plain": [
       "(array([122.,  60.,  37.,   5.,   4.,   4.,   1.,   1.,   2.,   1.]),\n",
       " array([ 0.,  4.,  8., 12., 16., 20., 24., 28., 32., 36., 40.]),\n",
       " <BarContainer object of 10 artists>)"
      ]
     },
     "execution_count": 92,
     "metadata": {},
     "output_type": "execute_result"
    },
    {
     "data": {
      "text/plain": [
       "Text(0.5, 0, 'YearsAtCompany')"
      ]
     },
     "execution_count": 92,
     "metadata": {},
     "output_type": "execute_result"
    },
    {
     "data": {
      "text/plain": [
       "Text(0, 0.5, '# of employees')"
      ]
     },
     "execution_count": 92,
     "metadata": {},
     "output_type": "execute_result"
    },
    {
     "data": {
      "text/plain": [
       "Text(0.5, 1.0, 'Years at the company')"
      ]
     },
     "execution_count": 92,
     "metadata": {},
     "output_type": "execute_result"
    },
    {
     "data": {
      "image/png": "[encoded data removed]",
      "text/plain": [
       "<Figure size 640x480 with 1 Axes>"
      ]
     },
     "metadata": {},
     "output_type": "display_data"
    }
   ],
   "source": [
    "plt.hist(attrition_yes['YearsAtCompany'])\n",
    "plt.xlabel('YearsAtCompany')\n",
    "plt.ylabel(\"# of employees\")\n",
    "plt.title(\"Years at the company\")"
   ]
  },
  {
   "cell_type": "markdown",
   "id": "b35cc59e-c1ea-4d29-bcc8-43e8883409a0",
   "metadata": {},
   "source": [
    "Most of the employees around __121__ contributed upto __4 years__ to the company."
   ]
  },
  {
   "cell_type": "markdown",
   "id": "41a5d7a8-7e9e-4aff-b0c9-5100a738b5cd",
   "metadata": {},
   "source": [
    "_Was the __distance__ from an employee's home a factor in their decision to __leave__ the company?_"
   ]
  },
  {
   "cell_type": "code",
   "execution_count": 95,
   "id": "5fbac394-8e6c-4764-9319-085233bccb23",
   "metadata": {},
   "outputs": [
    {
     "data": {
      "text/plain": [
       "{'whiskers': [<matplotlib.lines.Line2D at 0x2c5d47f15b0>,\n",
       "  <matplotlib.lines.Line2D at 0x2c5d4c53470>],\n",
       " 'caps': [<matplotlib.lines.Line2D at 0x2c5d4c53710>,\n",
       "  <matplotlib.lines.Line2D at 0x2c5d487c3e0>],\n",
       " 'boxes': [<matplotlib.lines.Line2D at 0x2c5d480d520>],\n",
       " 'medians': [<matplotlib.lines.Line2D at 0x2c5d4c53620>],\n",
       " 'fliers': [<matplotlib.lines.Line2D at 0x2c5d4c53950>],\n",
       " 'means': []}"
      ]
     },
     "execution_count": 95,
     "metadata": {},
     "output_type": "execute_result"
    },
    {
     "data": {
      "text/plain": [
       "Text(0.5, 1.0, 'Distance from home')"
      ]
     },
     "execution_count": 95,
     "metadata": {},
     "output_type": "execute_result"
    },
    {
     "data": {
      "image/png": "[encoded data removed]",
      "text/plain": [
       "<Figure size 640x480 with 1 Axes>"
      ]
     },
     "metadata": {},
     "output_type": "display_data"
    }
   ],
   "source": [
    "plt.boxplot(attrition_yes['DistanceFromHome'])\n",
    "plt.title('Distance from home')"
   ]
  },
  {
   "cell_type": "markdown",
   "id": "1ec1cea2-14c1-4ad5-bed3-42a55996b062",
   "metadata": {},
   "source": [
    "__Minimum distance__ that the employee required to come to office was __1.5 kms__ and __maximum distance__ was nearly __29 kms__."
   ]
  },
  {
   "cell_type": "code",
   "execution_count": 97,
   "id": "e4518d74-045b-48ba-aad2-ef8614496997",
   "metadata": {},
   "outputs": [
    {
     "name": "stdout",
     "output_type": "stream",
     "text": [
      "<class 'pandas.core.frame.DataFrame'>\n",
      "Index: 237 entries, 0 to 1461\n",
      "Data columns (total 31 columns):\n",
      " #   Column                    Non-Null Count  Dtype   \n",
      "---  ------                    --------------  -----   \n",
      " 0   Age                       237 non-null    int64   \n",
      " 1   Attrition                 237 non-null    object  \n",
      " 2   BusinessTravel            237 non-null    object  \n",
      " 3   Department                237 non-null    object  \n",
      " 4   DistanceFromHome          237 non-null    int64   \n",
      " 5   Education                 237 non-null    int64   \n",
      " 6   EducationField            237 non-null    object  \n",
      " 7   EmployeeNumber            237 non-null    int64   \n",
      " 8   EnvironmentSatisfaction   237 non-null    int64   \n",
      " 9   Gender                    237 non-null    object  \n",
      " 10  JobInvolvement            237 non-null    int64   \n",
      " 11  JobLevel                  237 non-null    int64   \n",
      " 12  JobRole                   237 non-null    object  \n",
      " 13  JobSatisfaction           237 non-null    int64   \n",
      " 14  MaritalStatus             237 non-null    object  \n",
      " 15  MonthlyIncome             237 non-null    int64   \n",
      " 16  NumCompaniesWorked        237 non-null    int64   \n",
      " 17  OverTime                  237 non-null    int32   \n",
      " 18  PercentSalaryHike         237 non-null    int64   \n",
      " 19  PerformanceRating         237 non-null    int64   \n",
      " 20  RelationshipSatisfaction  237 non-null    int64   \n",
      " 21  StockOptionLevel          237 non-null    int64   \n",
      " 22  TotalWorkingYears         237 non-null    int64   \n",
      " 23  TrainingTimesLastYear     237 non-null    int64   \n",
      " 24  WorkLifeBalance           237 non-null    int64   \n",
      " 25  YearsAtCompany            237 non-null    int64   \n",
      " 26  YearsInCurrentRole        237 non-null    int64   \n",
      " 27  YearsSinceLastPromotion   237 non-null    int64   \n",
      " 28  YearsWithCurrManager      237 non-null    int64   \n",
      " 29  AgeGroup                  233 non-null    category\n",
      " 30  PromotionDue              237 non-null    int32   \n",
      "dtypes: category(1), int32(2), int64(21), object(7)\n",
      "memory usage: 56.0+ KB\n"
     ]
    }
   ],
   "source": [
    "attrition_yes.info()"
   ]
  },
  {
   "cell_type": "markdown",
   "id": "d0c1388f-a44a-44f2-9c76-ec33a6d3763c",
   "metadata": {},
   "source": [
    "_Was their attrition due to frustration of working __overtime__?_"
   ]
  },
  {
   "cell_type": "code",
   "execution_count": 99,
   "id": "9c03eb44-6321-4a73-bdc6-717a2c2a05db",
   "metadata": {},
   "outputs": [
    {
     "data": {
      "text/plain": [
       "OverTime\n",
       "1    127\n",
       "0    110\n",
       "Name: count, dtype: int64"
      ]
     },
     "execution_count": 99,
     "metadata": {},
     "output_type": "execute_result"
    }
   ],
   "source": [
    "overtime = attrition_yes['OverTime'].value_counts()\n",
    "overtime"
   ]
  },
  {
   "cell_type": "code",
   "execution_count": 100,
   "id": "db5af390-675f-4314-8a97-fbec1f6d0546",
   "metadata": {},
   "outputs": [
    {
     "data": {
      "text/plain": [
       "<Axes: xlabel='OverTime'>"
      ]
     },
     "execution_count": 100,
     "metadata": {},
     "output_type": "execute_result"
    },
    {
     "data": {
      "text/plain": [
       "(array([0, 1]), [Text(0, 0, '1'), Text(1, 0, '0')])"
      ]
     },
     "execution_count": 100,
     "metadata": {},
     "output_type": "execute_result"
    },
    {
     "data": {
      "text/plain": [
       "Text(0, 0.5, '# of employees')"
      ]
     },
     "execution_count": 100,
     "metadata": {},
     "output_type": "execute_result"
    },
    {
     "data": {
      "text/plain": [
       "Text(0.5, 1.0, 'Attrition due to Over time')"
      ]
     },
     "execution_count": 100,
     "metadata": {},
     "output_type": "execute_result"
    },
    {
     "data": {
      "image/png": "[encoded data removed]",
      "text/plain": [
       "<Figure size 400x500 with 1 Axes>"
      ]
     },
     "metadata": {},
     "output_type": "display_data"
    }
   ],
   "source": [
    "overtime.plot(kind = 'bar', color = 'pink', figsize=(4, 5))\n",
    "plt.xticks(rotation = 0)\n",
    "plt.ylabel(\"# of employees\")\n",
    "plt.title(\"Attrition due to Over time\")"
   ]
  },
  {
   "cell_type": "markdown",
   "id": "39750d83-da74-452a-957a-b1fadff8c6ef",
   "metadata": {},
   "source": [
    "__Yes__, one of their reason to attrition could be due to __overtime__. Around __127__ employees worked overtime."
   ]
  },
  {
   "cell_type": "markdown",
   "id": "1b939338-160d-40c6-bd9a-a31945224ce4",
   "metadata": {},
   "source": [
    "_Which role suffered __maximum__ loss of employees?_"
   ]
  },
  {
   "cell_type": "code",
   "execution_count": 103,
   "id": "d1158570-ddee-4211-a6d7-998c6b6b63df",
   "metadata": {},
   "outputs": [
    {
     "data": {
      "text/plain": [
       "JobRole\n",
       "Laboratory Technician        62\n",
       "Sales Executive              57\n",
       "Research Scientist           47\n",
       "Sales Representative         33\n",
       "Human Resources              12\n",
       "Manufacturing Director       10\n",
       "Healthcare Representative     9\n",
       "Manager                       5\n",
       "Research Director             2\n",
       "Name: count, dtype: int64"
      ]
     },
     "execution_count": 103,
     "metadata": {},
     "output_type": "execute_result"
    }
   ],
   "source": [
    "jobrole = attrition_yes['JobRole'].value_counts()\n",
    "jobrole"
   ]
  },
  {
   "cell_type": "code",
   "execution_count": 104,
   "id": "f8f1f99c-c19c-49c5-baa9-d35f6fcf0441",
   "metadata": {},
   "outputs": [
    {
     "data": {
      "text/plain": [
       "<Axes: xlabel='JobRole'>"
      ]
     },
     "execution_count": 104,
     "metadata": {},
     "output_type": "execute_result"
    },
    {
     "data": {
      "text/plain": [
       "Text(0, 0.5, '# of employees')"
      ]
     },
     "execution_count": 104,
     "metadata": {},
     "output_type": "execute_result"
    },
    {
     "data": {
      "text/plain": [
       "Text(0.5, 1.0, 'Attrition based on JobRole')"
      ]
     },
     "execution_count": 104,
     "metadata": {},
     "output_type": "execute_result"
    },
    {
     "data": {
      "image/png": "[encoded data removed]",
      "text/plain": [
       "<Figure size 600x500 with 1 Axes>"
      ]
     },
     "metadata": {},
     "output_type": "display_data"
    }
   ],
   "source": [
    "jobrole.plot(kind = 'bar', color = 'skyblue', figsize=(6, 5))\n",
    "plt.ylabel(\"# of employees\")\n",
    "plt.title(\"Attrition based on JobRole\")"
   ]
  },
  {
   "cell_type": "markdown",
   "id": "dcf914d5-befa-4d19-8099-aad225d4dfa8",
   "metadata": {},
   "source": [
    "___Laboratory Technician__ suffered a huge loss of employees of around __62__ followed by __Sales Excecutive__._"
   ]
  },
  {
   "cell_type": "markdown",
   "id": "db9f036b-a11a-4f7a-ad51-fc58459bb79d",
   "metadata": {},
   "source": [
    "_What is the monthly income of __manageral__ job role?_"
   ]
  },
  {
   "cell_type": "code",
   "execution_count": 107,
   "id": "ad680ba9-76f7-45ba-b9db-56fbfcd93939",
   "metadata": {},
   "outputs": [
    {
     "data": {
      "text/plain": [
       "array(['Manager'], dtype=object)"
      ]
     },
     "execution_count": 107,
     "metadata": {},
     "output_type": "execute_result"
    }
   ],
   "source": [
    "manager = attrition_yes[attrition_yes['JobRole'] == 'Manager']\n",
    "manager['JobRole'].unique()"
   ]
  },
  {
   "cell_type": "code",
   "execution_count": 108,
   "id": "c624639e-5612-4908-9ad1-3f3d47a5ff2d",
   "metadata": {},
   "outputs": [
    {
     "data": {
      "text/html": [
       "<div>\n",
       "<style scoped>\n",
       "    .dataframe tbody tr th:only-of-type {\n",
       "        vertical-align: middle;\n",
       "    }\n",
       "\n",
       "    .dataframe tbody tr th {\n",
       "        vertical-align: top;\n",
       "    }\n",
       "\n",
       "    .dataframe thead th {\n",
       "        text-align: right;\n",
       "    }\n",
       "</style>\n",
       "<table border=\"1\" class=\"dataframe\">\n",
       "  <thead>\n",
       "    <tr style=\"text-align: right;\">\n",
       "      <th></th>\n",
       "      <th></th>\n",
       "      <th>MonthlyIncome</th>\n",
       "    </tr>\n",
       "    <tr>\n",
       "      <th>Department</th>\n",
       "      <th>JobRole</th>\n",
       "      <th></th>\n",
       "    </tr>\n",
       "  </thead>\n",
       "  <tbody>\n",
       "    <tr>\n",
       "      <th>Research &amp; Development</th>\n",
       "      <th>Manager</th>\n",
       "      <td>19859</td>\n",
       "    </tr>\n",
       "    <tr>\n",
       "      <th>Sales</th>\n",
       "      <th>Manager</th>\n",
       "      <td>19845</td>\n",
       "    </tr>\n",
       "  </tbody>\n",
       "</table>\n",
       "</div>"
      ],
      "text/plain": [
       "                                MonthlyIncome\n",
       "Department             JobRole               \n",
       "Research & Development Manager          19859\n",
       "Sales                  Manager          19845"
      ]
     },
     "execution_count": 108,
     "metadata": {},
     "output_type": "execute_result"
    }
   ],
   "source": [
    "manager.groupby(['Department', 'JobRole']).agg({'MonthlyIncome' : 'max'})"
   ]
  },
  {
   "cell_type": "markdown",
   "id": "20900928-d790-4a9f-a7a3-bb0dadd18bd2",
   "metadata": {},
   "source": [
    "Since the Manager is having a __high__ monthly salary, their chances to leave the company is __very less__. This is shown by the above plot where it shows only __5__ managers left the company "
   ]
  },
  {
   "cell_type": "markdown",
   "id": "ddc61f67-90e8-492a-91e6-3a9caa6d7bbf",
   "metadata": {},
   "source": [
    "_Exploring the other variables using a __bar plot__ which could be the reason for their attrition._"
   ]
  },
  {
   "cell_type": "code",
   "execution_count": 111,
   "id": "6f931b60-4e2f-4e3c-828c-d15138043874",
   "metadata": {},
   "outputs": [],
   "source": [
    "bar_list = ['WorkLifeBalance', 'JobSatisfaction', 'EnvironmentSatisfaction', 'JobInvolvement', 'PerformanceRating','EducationField', 'Education']"
   ]
  },
  {
   "cell_type": "code",
   "execution_count": 112,
   "id": "6eca7d1e-3b61-4c4a-9b13-ae87927df3ad",
   "metadata": {},
   "outputs": [
    {
     "data": {
      "text/plain": [
       "<Figure size 300x300 with 0 Axes>"
      ]
     },
     "execution_count": 112,
     "metadata": {},
     "output_type": "execute_result"
    },
    {
     "data": {
      "text/plain": [
       "<Axes: xlabel='WorkLifeBalance'>"
      ]
     },
     "execution_count": 112,
     "metadata": {},
     "output_type": "execute_result"
    },
    {
     "data": {
      "text/plain": [
       "(array([0, 1, 2, 3]),\n",
       " [Text(0, 0, '3'), Text(1, 0, '2'), Text(2, 0, '4'), Text(3, 0, '1')])"
      ]
     },
     "execution_count": 112,
     "metadata": {},
     "output_type": "execute_result"
    },
    {
     "data": {
      "text/plain": [
       "Text(0, 0.5, '# of employees')"
      ]
     },
     "execution_count": 112,
     "metadata": {},
     "output_type": "execute_result"
    },
    {
     "data": {
      "text/plain": [
       "Text(0.5, 1.0, 'WorkLifeBalance')"
      ]
     },
     "execution_count": 112,
     "metadata": {},
     "output_type": "execute_result"
    },
    {
     "data": {
      "text/plain": [
       "<Figure size 300x300 with 0 Axes>"
      ]
     },
     "execution_count": 112,
     "metadata": {},
     "output_type": "execute_result"
    },
    {
     "data": {
      "text/plain": [
       "<Axes: xlabel='JobSatisfaction'>"
      ]
     },
     "execution_count": 112,
     "metadata": {},
     "output_type": "execute_result"
    },
    {
     "data": {
      "text/plain": [
       "(array([0, 1, 2, 3]),\n",
       " [Text(0, 0, '3'), Text(1, 0, '1'), Text(2, 0, '4'), Text(3, 0, '2')])"
      ]
     },
     "execution_count": 112,
     "metadata": {},
     "output_type": "execute_result"
    },
    {
     "data": {
      "text/plain": [
       "Text(0, 0.5, '# of employees')"
      ]
     },
     "execution_count": 112,
     "metadata": {},
     "output_type": "execute_result"
    },
    {
     "data": {
      "text/plain": [
       "Text(0.5, 1.0, 'JobSatisfaction')"
      ]
     },
     "execution_count": 112,
     "metadata": {},
     "output_type": "execute_result"
    },
    {
     "data": {
      "text/plain": [
       "<Figure size 300x300 with 0 Axes>"
      ]
     },
     "execution_count": 112,
     "metadata": {},
     "output_type": "execute_result"
    },
    {
     "data": {
      "text/plain": [
       "<Axes: xlabel='EnvironmentSatisfaction'>"
      ]
     },
     "execution_count": 112,
     "metadata": {},
     "output_type": "execute_result"
    },
    {
     "data": {
      "text/plain": [
       "(array([0, 1, 2, 3]),\n",
       " [Text(0, 0, '1'), Text(1, 0, '3'), Text(2, 0, '4'), Text(3, 0, '2')])"
      ]
     },
     "execution_count": 112,
     "metadata": {},
     "output_type": "execute_result"
    },
    {
     "data": {
      "text/plain": [
       "Text(0, 0.5, '# of employees')"
      ]
     },
     "execution_count": 112,
     "metadata": {},
     "output_type": "execute_result"
    },
    {
     "data": {
      "text/plain": [
       "Text(0.5, 1.0, 'EnvironmentSatisfaction')"
      ]
     },
     "execution_count": 112,
     "metadata": {},
     "output_type": "execute_result"
    },
    {
     "data": {
      "text/plain": [
       "<Figure size 300x300 with 0 Axes>"
      ]
     },
     "execution_count": 112,
     "metadata": {},
     "output_type": "execute_result"
    },
    {
     "data": {
      "text/plain": [
       "<Axes: xlabel='JobInvolvement'>"
      ]
     },
     "execution_count": 112,
     "metadata": {},
     "output_type": "execute_result"
    },
    {
     "data": {
      "text/plain": [
       "(array([0, 1, 2, 3]),\n",
       " [Text(0, 0, '3'), Text(1, 0, '2'), Text(2, 0, '1'), Text(3, 0, '4')])"
      ]
     },
     "execution_count": 112,
     "metadata": {},
     "output_type": "execute_result"
    },
    {
     "data": {
      "text/plain": [
       "Text(0, 0.5, '# of employees')"
      ]
     },
     "execution_count": 112,
     "metadata": {},
     "output_type": "execute_result"
    },
    {
     "data": {
      "text/plain": [
       "Text(0.5, 1.0, 'JobInvolvement')"
      ]
     },
     "execution_count": 112,
     "metadata": {},
     "output_type": "execute_result"
    },
    {
     "data": {
      "text/plain": [
       "<Figure size 300x300 with 0 Axes>"
      ]
     },
     "execution_count": 112,
     "metadata": {},
     "output_type": "execute_result"
    },
    {
     "data": {
      "text/plain": [
       "<Axes: xlabel='PerformanceRating'>"
      ]
     },
     "execution_count": 112,
     "metadata": {},
     "output_type": "execute_result"
    },
    {
     "data": {
      "text/plain": [
       "(array([0, 1]), [Text(0, 0, '3'), Text(1, 0, '4')])"
      ]
     },
     "execution_count": 112,
     "metadata": {},
     "output_type": "execute_result"
    },
    {
     "data": {
      "text/plain": [
       "Text(0, 0.5, '# of employees')"
      ]
     },
     "execution_count": 112,
     "metadata": {},
     "output_type": "execute_result"
    },
    {
     "data": {
      "text/plain": [
       "Text(0.5, 1.0, 'PerformanceRating')"
      ]
     },
     "execution_count": 112,
     "metadata": {},
     "output_type": "execute_result"
    },
    {
     "data": {
      "text/plain": [
       "<Figure size 300x300 with 0 Axes>"
      ]
     },
     "execution_count": 112,
     "metadata": {},
     "output_type": "execute_result"
    },
    {
     "data": {
      "text/plain": [
       "<Axes: xlabel='EducationField'>"
      ]
     },
     "execution_count": 112,
     "metadata": {},
     "output_type": "execute_result"
    },
    {
     "data": {
      "text/plain": [
       "(array([0, 1, 2, 3, 4, 5]),\n",
       " [Text(0, 0, 'Life Sciences'),\n",
       "  Text(1, 0, 'Medical'),\n",
       "  Text(2, 0, 'Marketing'),\n",
       "  Text(3, 0, 'Technical Degree'),\n",
       "  Text(4, 0, 'Other'),\n",
       "  Text(5, 0, 'Human Resources')])"
      ]
     },
     "execution_count": 112,
     "metadata": {},
     "output_type": "execute_result"
    },
    {
     "data": {
      "text/plain": [
       "Text(0, 0.5, '# of employees')"
      ]
     },
     "execution_count": 112,
     "metadata": {},
     "output_type": "execute_result"
    },
    {
     "data": {
      "text/plain": [
       "Text(0.5, 1.0, 'EducationField')"
      ]
     },
     "execution_count": 112,
     "metadata": {},
     "output_type": "execute_result"
    },
    {
     "data": {
      "text/plain": [
       "<Figure size 300x300 with 0 Axes>"
      ]
     },
     "execution_count": 112,
     "metadata": {},
     "output_type": "execute_result"
    },
    {
     "data": {
      "text/plain": [
       "<Axes: xlabel='Education'>"
      ]
     },
     "execution_count": 112,
     "metadata": {},
     "output_type": "execute_result"
    },
    {
     "data": {
      "text/plain": [
       "(array([0, 1, 2, 3, 4]),\n",
       " [Text(0, 0, '3'),\n",
       "  Text(1, 0, '4'),\n",
       "  Text(2, 0, '2'),\n",
       "  Text(3, 0, '1'),\n",
       "  Text(4, 0, '5')])"
      ]
     },
     "execution_count": 112,
     "metadata": {},
     "output_type": "execute_result"
    },
    {
     "data": {
      "text/plain": [
       "Text(0, 0.5, '# of employees')"
      ]
     },
     "execution_count": 112,
     "metadata": {},
     "output_type": "execute_result"
    },
    {
     "data": {
      "text/plain": [
       "Text(0.5, 1.0, 'Education')"
      ]
     },
     "execution_count": 112,
     "metadata": {},
     "output_type": "execute_result"
    },
    {
     "data": {
      "image/png": "[encoded data removed]",
      "text/plain": [
       "<Figure size 400x500 with 1 Axes>"
      ]
     },
     "metadata": {},
     "output_type": "display_data"
    },
    {
     "data": {
      "image/png": "[encoded data removed]",
      "text/plain": [
       "<Figure size 400x500 with 1 Axes>"
      ]
     },
     "metadata": {},
     "output_type": "display_data"
    },
    {
     "data": {
      "image/png": "[encoded data removed]",
      "text/plain": [
       "<Figure size 400x500 with 1 Axes>"
      ]
     },
     "metadata": {},
     "output_type": "display_data"
    },
    {
     "data": {
      "image/png": "[encoded data removed]",
      "text/plain": [
       "<Figure size 400x500 with 1 Axes>"
      ]
     },
     "metadata": {},
     "output_type": "display_data"
    },
    {
     "data": {
      "image/png": "[encoded data removed]",
      "text/plain": [
       "<Figure size 400x500 with 1 Axes>"
      ]
     },
     "metadata": {},
     "output_type": "display_data"
    },
    {
     "data": {
      "image/png": "[encoded data removed]",
      "text/plain": [
       "<Figure size 400x500 with 1 Axes>"
      ]
     },
     "metadata": {},
     "output_type": "display_data"
    },
    {
     "data": {
      "image/png": "[encoded data removed]",
      "text/plain": [
       "<Figure size 400x500 with 1 Axes>"
      ]
     },
     "metadata": {},
     "output_type": "display_data"
    }
   ],
   "source": [
    "for i in bar_list:\n",
    "    plt.figure(figsize=(3, 3))\n",
    "    attrition_yes[i].value_counts().plot(kind = 'bar', color = 'darkgreen', figsize=(4, 5))\n",
    "    plt.xticks(rotation = 0)\n",
    "    #plt.yticks(np.arange(0, 180, 20))\n",
    "    plt.ylabel(f\"# of employees\")\n",
    "    plt.title(f\"{i}\")"
   ]
  },
  {
   "cell_type": "markdown",
   "id": "e09f7816-7716-460b-84f8-20a5cfbd2159",
   "metadata": {},
   "source": [
    "__The inference from the above plots:__ \n",
    "1. Work life balance was __moderate__. Work life balance was more than average except for __21__ employees. Nearly, __21__ employees did not have a worklife balance.\n",
    "2. The above graph shows the job satisfaction on the scale of 1-4. The graphs shows that the employees were moderately statisfied.\n",
    "3. The environment satisfaction was __not observed__ for most of the employees. This could be a reason for their attrition.\n",
    "4. Job Envolvement level was on __average__ level.\n",
    "5. Performance rating is observed on __3 and 4__ scale. Most of the employee was on __3 level__ scale of performance.\n",
    "6. Most of the employees were from life science feild.\n",
    "7. An __average__ education level was observed for the employees who left."
   ]
  },
  {
   "cell_type": "markdown",
   "id": "1081541d-db63-4a03-992c-5f6c568abcb8",
   "metadata": {},
   "source": [
    "_Checking if their __attrition__ was due to salary hike, years into current role or years since last promotion happened?_"
   ]
  },
  {
   "cell_type": "code",
   "execution_count": 115,
   "id": "2027febd-f0f1-47f9-9224-b430116957a7",
   "metadata": {},
   "outputs": [],
   "source": [
    "list = ['PercentSalaryHike','YearsInCurrentRole', 'YearsSinceLastPromotion']"
   ]
  },
  {
   "cell_type": "code",
   "execution_count": 116,
   "id": "e5b2e7ed-f175-4f58-a41b-e7aac07585fb",
   "metadata": {},
   "outputs": [
    {
     "data": {
      "text/plain": [
       "<Figure size 500x400 with 0 Axes>"
      ]
     },
     "execution_count": 116,
     "metadata": {},
     "output_type": "execute_result"
    },
    {
     "data": {
      "text/plain": [
       "(array([74., 34., 42., 14., 14., 22.,  7., 17.,  6.,  7.]),\n",
       " array([11. , 12.4, 13.8, 15.2, 16.6, 18. , 19.4, 20.8, 22.2, 23.6, 25. ]),\n",
       " <BarContainer object of 10 artists>)"
      ]
     },
     "execution_count": 116,
     "metadata": {},
     "output_type": "execute_result"
    },
    {
     "data": {
      "text/plain": [
       "Text(0, 0.5, '# of employees')"
      ]
     },
     "execution_count": 116,
     "metadata": {},
     "output_type": "execute_result"
    },
    {
     "data": {
      "text/plain": [
       "Text(0.5, 1.0, 'Attrition due to issues with PercentSalaryHike')"
      ]
     },
     "execution_count": 116,
     "metadata": {},
     "output_type": "execute_result"
    },
    {
     "data": {
      "text/plain": [
       "Text(0.5, 0, 'PercentSalaryHike')"
      ]
     },
     "execution_count": 116,
     "metadata": {},
     "output_type": "execute_result"
    },
    {
     "data": {
      "text/plain": [
       "<Figure size 500x400 with 0 Axes>"
      ]
     },
     "execution_count": 116,
     "metadata": {},
     "output_type": "execute_result"
    },
    {
     "data": {
      "text/plain": [
       "(array([84., 68., 31.,  1., 33.,  7.,  8.,  0.,  2.,  3.]),\n",
       " array([ 0. ,  1.5,  3. ,  4.5,  6. ,  7.5,  9. , 10.5, 12. , 13.5, 15. ]),\n",
       " <BarContainer object of 10 artists>)"
      ]
     },
     "execution_count": 116,
     "metadata": {},
     "output_type": "execute_result"
    },
    {
     "data": {
      "text/plain": [
       "Text(0, 0.5, '# of employees')"
      ]
     },
     "execution_count": 116,
     "metadata": {},
     "output_type": "execute_result"
    },
    {
     "data": {
      "text/plain": [
       "Text(0.5, 1.0, 'Attrition due to issues with YearsInCurrentRole')"
      ]
     },
     "execution_count": 116,
     "metadata": {},
     "output_type": "execute_result"
    },
    {
     "data": {
      "text/plain": [
       "Text(0.5, 0, 'YearsInCurrentRole')"
      ]
     },
     "execution_count": 116,
     "metadata": {},
     "output_type": "execute_result"
    },
    {
     "data": {
      "text/plain": [
       "<Figure size 500x400 with 0 Axes>"
      ]
     },
     "execution_count": 116,
     "metadata": {},
     "output_type": "execute_result"
    },
    {
     "data": {
      "text/plain": [
       "(array([159.,  27.,  14.,   2.,  22.,   0.,   5.,   2.,   2.,   4.]),\n",
       " array([ 0. ,  1.5,  3. ,  4.5,  6. ,  7.5,  9. , 10.5, 12. , 13.5, 15. ]),\n",
       " <BarContainer object of 10 artists>)"
      ]
     },
     "execution_count": 116,
     "metadata": {},
     "output_type": "execute_result"
    },
    {
     "data": {
      "text/plain": [
       "Text(0, 0.5, '# of employees')"
      ]
     },
     "execution_count": 116,
     "metadata": {},
     "output_type": "execute_result"
    },
    {
     "data": {
      "text/plain": [
       "Text(0.5, 1.0, 'Attrition due to issues with YearsSinceLastPromotion')"
      ]
     },
     "execution_count": 116,
     "metadata": {},
     "output_type": "execute_result"
    },
    {
     "data": {
      "text/plain": [
       "Text(0.5, 0, 'YearsSinceLastPromotion')"
      ]
     },
     "execution_count": 116,
     "metadata": {},
     "output_type": "execute_result"
    },
    {
     "data": {
      "image/png": "[encoded data removed]",
      "text/plain": [
       "<Figure size 500x400 with 1 Axes>"
      ]
     },
     "metadata": {},
     "output_type": "display_data"
    },
    {
     "data": {
      "image/png": "[encoded data removed]",
      "text/plain": [
       "<Figure size 500x400 with 1 Axes>"
      ]
     },
     "metadata": {},
     "output_type": "display_data"
    },
    {
     "data": {
      "image/png": "[encoded data removed]",
      "text/plain": [
       "<Figure size 500x400 with 1 Axes>"
      ]
     },
     "metadata": {},
     "output_type": "display_data"
    }
   ],
   "source": [
    "for i in list:\n",
    "    plt.figure(figsize=(5, 4))\n",
    "    plt.hist(attrition_yes[i], color = 'lightgreen')\n",
    "    plt.ylabel(\"# of employees\")\n",
    "    plt.title(f\"Attrition due to issues with {i}\")\n",
    "    plt.xlabel(i)"
   ]
  },
  {
   "cell_type": "markdown",
   "id": "2bc36624-bff2-4461-a16a-ec4f6c0a81b8",
   "metadata": {},
   "source": [
    "The inference from the above plots:<br>\n",
    "1. Most of the employees recieved __less__ percent salary hike. Nearly, __11-12.3%__ hike was given to maximum employees. <br>\n",
    "2. Many employess stayed under __1.7__ years in the current role. Most of the employees were new i.e __0__ years.<br>\n",
    "3. Many employees fall under __1.7__ years since their last promotion.<br>"
   ]
  },
  {
   "cell_type": "markdown",
   "id": "14d3ab25-1237-491f-9d5e-c9bf001477f7",
   "metadata": {},
   "source": [
    "## 7. Models and analysis"
   ]
  },
  {
   "cell_type": "markdown",
   "id": "7e43d58a-dcd4-42d1-adaa-8a240b324e4f",
   "metadata": {},
   "source": [
    "### 7.1 Preparing the data"
   ]
  },
  {
   "cell_type": "markdown",
   "id": "01149b5f-4a6e-43ab-90d3-06c77773237d",
   "metadata": {},
   "source": [
    "_The column __EmployeeNumber__ serves as the primary key. It does not contribute towards modelling hence, dropping the column._"
   ]
  },
  {
   "cell_type": "code",
   "execution_count": 121,
   "id": "d8f0e1f0-6078-4cf8-8149-1ae1b2af5c05",
   "metadata": {},
   "outputs": [
    {
     "data": {
      "text/plain": [
       "(1470, 30)"
      ]
     },
     "execution_count": 121,
     "metadata": {},
     "output_type": "execute_result"
    }
   ],
   "source": [
    "emp = emp.drop('EmployeeNumber', axis = 1)\n",
    "emp.shape"
   ]
  },
  {
   "cell_type": "code",
   "execution_count": 122,
   "id": "c5a10d13-5f65-4879-8537-f202c4f81c24",
   "metadata": {},
   "outputs": [
    {
     "name": "stdout",
     "output_type": "stream",
     "text": [
      "<class 'pandas.core.frame.DataFrame'>\n",
      "RangeIndex: 1470 entries, 0 to 1469\n",
      "Data columns (total 30 columns):\n",
      " #   Column                    Non-Null Count  Dtype   \n",
      "---  ------                    --------------  -----   \n",
      " 0   Age                       1470 non-null   int64   \n",
      " 1   Attrition                 1470 non-null   object  \n",
      " 2   BusinessTravel            1470 non-null   object  \n",
      " 3   Department                1470 non-null   object  \n",
      " 4   DistanceFromHome          1470 non-null   int64   \n",
      " 5   Education                 1470 non-null   int64   \n",
      " 6   EducationField            1470 non-null   object  \n",
      " 7   EnvironmentSatisfaction   1470 non-null   int64   \n",
      " 8   Gender                    1470 non-null   object  \n",
      " 9   JobInvolvement            1470 non-null   int64   \n",
      " 10  JobLevel                  1470 non-null   int64   \n",
      " 11  JobRole                   1470 non-null   object  \n",
      " 12  JobSatisfaction           1470 non-null   int64   \n",
      " 13  MaritalStatus             1470 non-null   object  \n",
      " 14  MonthlyIncome             1470 non-null   int64   \n",
      " 15  NumCompaniesWorked        1470 non-null   int64   \n",
      " 16  OverTime                  1470 non-null   int32   \n",
      " 17  PercentSalaryHike         1470 non-null   int64   \n",
      " 18  PerformanceRating         1470 non-null   int64   \n",
      " 19  RelationshipSatisfaction  1470 non-null   int64   \n",
      " 20  StockOptionLevel          1470 non-null   int64   \n",
      " 21  TotalWorkingYears         1470 non-null   int64   \n",
      " 22  TrainingTimesLastYear     1470 non-null   int64   \n",
      " 23  WorkLifeBalance           1470 non-null   int64   \n",
      " 24  YearsAtCompany            1470 non-null   int64   \n",
      " 25  YearsInCurrentRole        1470 non-null   int64   \n",
      " 26  YearsSinceLastPromotion   1470 non-null   int64   \n",
      " 27  YearsWithCurrManager      1470 non-null   int64   \n",
      " 28  AgeGroup                  1462 non-null   category\n",
      " 29  PromotionDue              1470 non-null   int32   \n",
      "dtypes: category(1), int32(2), int64(20), object(7)\n",
      "memory usage: 323.3+ KB\n"
     ]
    }
   ],
   "source": [
    "emp.info()"
   ]
  },
  {
   "cell_type": "markdown",
   "id": "f657663d-4e23-4761-b1be-9cfa488aa5e8",
   "metadata": {},
   "source": [
    "_We dont need the __AgeGroup__ column since we have age column. The AgeGroup column was created to explore the data._ "
   ]
  },
  {
   "cell_type": "code",
   "execution_count": 124,
   "id": "7fc89eec-f9c0-443a-9f88-6e756c907473",
   "metadata": {},
   "outputs": [
    {
     "data": {
      "text/plain": [
       "(1470, 29)"
      ]
     },
     "execution_count": 124,
     "metadata": {},
     "output_type": "execute_result"
    }
   ],
   "source": [
    "emp = emp.drop('AgeGroup', axis = 1)\n",
    "emp.shape"
   ]
  },
  {
   "cell_type": "markdown",
   "id": "065b87ad-b34f-4c8c-aeaa-d4bec7f92a19",
   "metadata": {},
   "source": [
    "_Transforming the columns __MaritalStatus, Gender, EducationField, BusinessTravel, Department__._"
   ]
  },
  {
   "cell_type": "code",
   "execution_count": 126,
   "id": "4e8f2ddb-aaf4-4199-8751-e73dcd5dc18f",
   "metadata": {},
   "outputs": [],
   "source": [
    "emp = pd.get_dummies(emp, \n",
    "                     columns = ['MaritalStatus', 'Gender', 'BusinessTravel', 'Department', 'EducationField', 'JobRole'], drop_first = True)"
   ]
  },
  {
   "cell_type": "code",
   "execution_count": 127,
   "id": "f91aba23-d0c5-4683-8a86-822c1d27ec2e",
   "metadata": {},
   "outputs": [
    {
     "data": {
      "text/plain": [
       "(1470, 43)"
      ]
     },
     "execution_count": 127,
     "metadata": {},
     "output_type": "execute_result"
    }
   ],
   "source": [
    "emp.shape\n",
    "emp['MaritalStatus_Married'] = emp['MaritalStatus_Married'].astype('int64')\n",
    "emp['MaritalStatus_Single'] = emp['MaritalStatus_Single'].astype('int64')\n",
    "emp['Gender_Male'] = emp['Gender_Male'].astype('int64')\n",
    "emp['BusinessTravel_Travel_Frequently'] = emp['BusinessTravel_Travel_Frequently'].astype('int64')\n",
    "emp['BusinessTravel_Travel_Rarely'] = emp['BusinessTravel_Travel_Rarely'].astype('int64')\n",
    "emp['Department_Research & Development'] = emp['Department_Research & Development'].astype('int64')\n",
    "emp['Department_Sales'] = emp['Department_Sales'].astype('int64')\n",
    "emp['EducationField_Technical Degree'] = emp['EducationField_Technical Degree'].astype('int64')\n",
    "emp['EducationField_Life Sciences'] = emp['EducationField_Life Sciences'].astype('int64')\n",
    "emp['EducationField_Marketing'] = emp['EducationField_Marketing'].astype('int64')\n",
    "emp['EducationField_Medical'] = emp['EducationField_Medical'].astype('int64')\n",
    "emp['EducationField_Other'] = emp['EducationField_Other'].astype('int64')\n",
    "emp['JobRole_Human Resources'] = emp['JobRole_Human Resources'].astype('int64')\n",
    "emp['JobRole_Laboratory Technician'] = emp['JobRole_Laboratory Technician'].astype('int64')\n",
    "emp['JobRole_Manager'] = emp['JobRole_Manager'].astype('int64')\n",
    "emp['JobRole_Manufacturing Director'] = emp['JobRole_Manufacturing Director'].astype('int64')\n",
    "emp['JobRole_Research Director'] = emp['JobRole_Research Director'].astype('int64')\n",
    "emp['JobRole_Research Scientist'] = emp['JobRole_Research Scientist'].astype('int64')\n",
    "emp['JobRole_Sales Executive'] = emp['JobRole_Sales Executive'].astype('int64')\n",
    "emp['JobRole_Sales Representative'] = emp['JobRole_Sales Representative'].astype('int64')"
   ]
  },
  {
   "cell_type": "code",
   "execution_count": 128,
   "id": "df670f17-323b-43bf-b849-2b5787d03605",
   "metadata": {},
   "outputs": [
    {
     "name": "stdout",
     "output_type": "stream",
     "text": [
      "<class 'pandas.core.frame.DataFrame'>\n",
      "RangeIndex: 1470 entries, 0 to 1469\n",
      "Data columns (total 43 columns):\n",
      " #   Column                             Non-Null Count  Dtype \n",
      "---  ------                             --------------  ----- \n",
      " 0   Age                                1470 non-null   int64 \n",
      " 1   Attrition                          1470 non-null   object\n",
      " 2   DistanceFromHome                   1470 non-null   int64 \n",
      " 3   Education                          1470 non-null   int64 \n",
      " 4   EnvironmentSatisfaction            1470 non-null   int64 \n",
      " 5   JobInvolvement                     1470 non-null   int64 \n",
      " 6   JobLevel                           1470 non-null   int64 \n",
      " 7   JobSatisfaction                    1470 non-null   int64 \n",
      " 8   MonthlyIncome                      1470 non-null   int64 \n",
      " 9   NumCompaniesWorked                 1470 non-null   int64 \n",
      " 10  OverTime                           1470 non-null   int32 \n",
      " 11  PercentSalaryHike                  1470 non-null   int64 \n",
      " 12  PerformanceRating                  1470 non-null   int64 \n",
      " 13  RelationshipSatisfaction           1470 non-null   int64 \n",
      " 14  StockOptionLevel                   1470 non-null   int64 \n",
      " 15  TotalWorkingYears                  1470 non-null   int64 \n",
      " 16  TrainingTimesLastYear              1470 non-null   int64 \n",
      " 17  WorkLifeBalance                    1470 non-null   int64 \n",
      " 18  YearsAtCompany                     1470 non-null   int64 \n",
      " 19  YearsInCurrentRole                 1470 non-null   int64 \n",
      " 20  YearsSinceLastPromotion            1470 non-null   int64 \n",
      " 21  YearsWithCurrManager               1470 non-null   int64 \n",
      " 22  PromotionDue                       1470 non-null   int32 \n",
      " 23  MaritalStatus_Married              1470 non-null   int64 \n",
      " 24  MaritalStatus_Single               1470 non-null   int64 \n",
      " 25  Gender_Male                        1470 non-null   int64 \n",
      " 26  BusinessTravel_Travel_Frequently   1470 non-null   int64 \n",
      " 27  BusinessTravel_Travel_Rarely       1470 non-null   int64 \n",
      " 28  Department_Research & Development  1470 non-null   int64 \n",
      " 29  Department_Sales                   1470 non-null   int64 \n",
      " 30  EducationField_Life Sciences       1470 non-null   int64 \n",
      " 31  EducationField_Marketing           1470 non-null   int64 \n",
      " 32  EducationField_Medical             1470 non-null   int64 \n",
      " 33  EducationField_Other               1470 non-null   int64 \n",
      " 34  EducationField_Technical Degree    1470 non-null   int64 \n",
      " 35  JobRole_Human Resources            1470 non-null   int64 \n",
      " 36  JobRole_Laboratory Technician      1470 non-null   int64 \n",
      " 37  JobRole_Manager                    1470 non-null   int64 \n",
      " 38  JobRole_Manufacturing Director     1470 non-null   int64 \n",
      " 39  JobRole_Research Director          1470 non-null   int64 \n",
      " 40  JobRole_Research Scientist         1470 non-null   int64 \n",
      " 41  JobRole_Sales Executive            1470 non-null   int64 \n",
      " 42  JobRole_Sales Representative       1470 non-null   int64 \n",
      "dtypes: int32(2), int64(40), object(1)\n",
      "memory usage: 482.5+ KB\n"
     ]
    }
   ],
   "source": [
    "emp.info()"
   ]
  },
  {
   "cell_type": "markdown",
   "id": "017e1585-9fa2-4b72-912d-29748b5222b2",
   "metadata": {},
   "source": [
    "### 7.2 Variables"
   ]
  },
  {
   "cell_type": "markdown",
   "id": "211249c8-1600-4997-bca3-a9ca40f16a26",
   "metadata": {},
   "source": [
    "___Target variable and features___"
   ]
  },
  {
   "cell_type": "code",
   "execution_count": 131,
   "id": "b7414f37-c73c-4429-9f7d-88d69d5c9155",
   "metadata": {},
   "outputs": [],
   "source": [
    "y = emp['Attrition']"
   ]
  },
  {
   "cell_type": "code",
   "execution_count": 132,
   "id": "9a552849-89d5-41dc-89f6-d6b08f9292b0",
   "metadata": {},
   "outputs": [],
   "source": [
    "X = emp.drop('Attrition', axis =1)"
   ]
  },
  {
   "cell_type": "markdown",
   "id": "36a170fb-32ec-4eb1-972f-8dc874a0fcf6",
   "metadata": {},
   "source": [
    "### 7.3 Modeling using PCA technique"
   ]
  },
  {
   "cell_type": "markdown",
   "id": "fbed635b-eaa1-442d-90be-0bbcee63fc13",
   "metadata": {},
   "source": [
    "Using __PCA__ analysis since the features are huge. PCA is used to reduce the number of features (or dimensions) in your dataset while retaining as much variance as possible. "
   ]
  },
  {
   "cell_type": "code",
   "execution_count": 135,
   "id": "112a9f26-bec7-4d3b-9480-c1aa3d7231c0",
   "metadata": {},
   "outputs": [
    {
     "data": {
      "text/html": [
       "<style>#sk-container-id-1 {\n",
       "  /* Definition of color scheme common for light and dark mode */\n",
       "  --sklearn-color-text: black;\n",
       "  --sklearn-color-line: gray;\n",
       "  /* Definition of color scheme for unfitted estimators */\n",
       "  --sklearn-color-unfitted-level-0: #fff5e6;\n",
       "  --sklearn-color-unfitted-level-1: #f6e4d2;\n",
       "  --sklearn-color-unfitted-level-2: #ffe0b3;\n",
       "  --sklearn-color-unfitted-level-3: chocolate;\n",
       "  /* Definition of color scheme for fitted estimators */\n",
       "  --sklearn-color-fitted-level-0: #f0f8ff;\n",
       "  --sklearn-color-fitted-level-1: #d4ebff;\n",
       "  --sklearn-color-fitted-level-2: #b3dbfd;\n",
       "  --sklearn-color-fitted-level-3: cornflowerblue;\n",
       "\n",
       "  /* Specific color for light theme */\n",
       "  --sklearn-color-text-on-default-background: var(--sg-text-color, var(--theme-code-foreground, var(--jp-content-font-color1, black)));\n",
       "  --sklearn-color-background: var(--sg-background-color, var(--theme-background, var(--jp-layout-color0, white)));\n",
       "  --sklearn-color-border-box: var(--sg-text-color, var(--theme-code-foreground, var(--jp-content-font-color1, black)));\n",
       "  --sklearn-color-icon: #696969;\n",
       "\n",
       "  @media (prefers-color-scheme: dark) {\n",
       "    /* Redefinition of color scheme for dark theme */\n",
       "    --sklearn-color-text-on-default-background: var(--sg-text-color, var(--theme-code-foreground, var(--jp-content-font-color1, white)));\n",
       "    --sklearn-color-background: var(--sg-background-color, var(--theme-background, var(--jp-layout-color0, #111)));\n",
       "    --sklearn-color-border-box: var(--sg-text-color, var(--theme-code-foreground, var(--jp-content-font-color1, white)));\n",
       "    --sklearn-color-icon: #878787;\n",
       "  }\n",
       "}\n",
       "\n",
       "#sk-container-id-1 {\n",
       "  color: var(--sklearn-color-text);\n",
       "}\n",
       "\n",
       "#sk-container-id-1 pre {\n",
       "  padding: 0;\n",
       "}\n",
       "\n",
       "#sk-container-id-1 input.sk-hidden--visually {\n",
       "  border: 0;\n",
       "  clip: rect(1px 1px 1px 1px);\n",
       "  clip: rect(1px, 1px, 1px, 1px);\n",
       "  height: 1px;\n",
       "  margin: -1px;\n",
       "  overflow: hidden;\n",
       "  padding: 0;\n",
       "  position: absolute;\n",
       "  width: 1px;\n",
       "}\n",
       "\n",
       "#sk-container-id-1 div.sk-dashed-wrapped {\n",
       "  border: 1px dashed var(--sklearn-color-line);\n",
       "  margin: 0 0.4em 0.5em 0.4em;\n",
       "  box-sizing: border-box;\n",
       "  padding-bottom: 0.4em;\n",
       "  background-color: var(--sklearn-color-background);\n",
       "}\n",
       "\n",
       "#sk-container-id-1 div.sk-container {\n",
       "  /* jupyter's `normalize.less` sets `[hidden] { display: none; }`\n",
       "     but bootstrap.min.css set `[hidden] { display: none !important; }`\n",
       "     so we also need the `!important` here to be able to override the\n",
       "     default hidden behavior on the sphinx rendered scikit-learn.org.\n",
       "     See: https://github.com/scikit-learn/scikit-learn/issues/21755 */\n",
       "  display: inline-block !important;\n",
       "  position: relative;\n",
       "}\n",
       "\n",
       "#sk-container-id-1 div.sk-text-repr-fallback {\n",
       "  display: none;\n",
       "}\n",
       "\n",
       "div.sk-parallel-item,\n",
       "div.sk-serial,\n",
       "div.sk-item {\n",
       "  /* draw centered vertical line to link estimators */\n",
       "  background-image: linear-gradient(var(--sklearn-color-text-on-default-background), var(--sklearn-color-text-on-default-background));\n",
       "  background-size: 2px 100%;\n",
       "  background-repeat: no-repeat;\n",
       "  background-position: center center;\n",
       "}\n",
       "\n",
       "/* Parallel-specific style estimator block */\n",
       "\n",
       "#sk-container-id-1 div.sk-parallel-item::after {\n",
       "  content: \"\";\n",
       "  width: 100%;\n",
       "  border-bottom: 2px solid var(--sklearn-color-text-on-default-background);\n",
       "  flex-grow: 1;\n",
       "}\n",
       "\n",
       "#sk-container-id-1 div.sk-parallel {\n",
       "  display: flex;\n",
       "  align-items: stretch;\n",
       "  justify-content: center;\n",
       "  background-color: var(--sklearn-color-background);\n",
       "  position: relative;\n",
       "}\n",
       "\n",
       "#sk-container-id-1 div.sk-parallel-item {\n",
       "  display: flex;\n",
       "  flex-direction: column;\n",
       "}\n",
       "\n",
       "#sk-container-id-1 div.sk-parallel-item:first-child::after {\n",
       "  align-self: flex-end;\n",
       "  width: 50%;\n",
       "}\n",
       "\n",
       "#sk-container-id-1 div.sk-parallel-item:last-child::after {\n",
       "  align-self: flex-start;\n",
       "  width: 50%;\n",
       "}\n",
       "\n",
       "#sk-container-id-1 div.sk-parallel-item:only-child::after {\n",
       "  width: 0;\n",
       "}\n",
       "\n",
       "/* Serial-specific style estimator block */\n",
       "\n",
       "#sk-container-id-1 div.sk-serial {\n",
       "  display: flex;\n",
       "  flex-direction: column;\n",
       "  align-items: center;\n",
       "  background-color: var(--sklearn-color-background);\n",
       "  padding-right: 1em;\n",
       "  padding-left: 1em;\n",
       "}\n",
       "\n",
       "\n",
       "/* Toggleable style: style used for estimator/Pipeline/ColumnTransformer box that is\n",
       "clickable and can be expanded/collapsed.\n",
       "- Pipeline and ColumnTransformer use this feature and define the default style\n",
       "- Estimators will overwrite some part of the style using the `sk-estimator` class\n",
       "*/\n",
       "\n",
       "/* Pipeline and ColumnTransformer style (default) */\n",
       "\n",
       "#sk-container-id-1 div.sk-toggleable {\n",
       "  /* Default theme specific background. It is overwritten whether we have a\n",
       "  specific estimator or a Pipeline/ColumnTransformer */\n",
       "  background-color: var(--sklearn-color-background);\n",
       "}\n",
       "\n",
       "/* Toggleable label */\n",
       "#sk-container-id-1 label.sk-toggleable__label {\n",
       "  cursor: pointer;\n",
       "  display: block;\n",
       "  width: 100%;\n",
       "  margin-bottom: 0;\n",
       "  padding: 0.5em;\n",
       "  box-sizing: border-box;\n",
       "  text-align: center;\n",
       "}\n",
       "\n",
       "#sk-container-id-1 label.sk-toggleable__label-arrow:before {\n",
       "  /* Arrow on the left of the label */\n",
       "  content: \"▸\";\n",
       "  float: left;\n",
       "  margin-right: 0.25em;\n",
       "  color: var(--sklearn-color-icon);\n",
       "}\n",
       "\n",
       "#sk-container-id-1 label.sk-toggleable__label-arrow:hover:before {\n",
       "  color: var(--sklearn-color-text);\n",
       "}\n",
       "\n",
       "/* Toggleable content - dropdown */\n",
       "\n",
       "#sk-container-id-1 div.sk-toggleable__content {\n",
       "  max-height: 0;\n",
       "  max-width: 0;\n",
       "  overflow: hidden;\n",
       "  text-align: left;\n",
       "  /* unfitted */\n",
       "  background-color: var(--sklearn-color-unfitted-level-0);\n",
       "}\n",
       "\n",
       "#sk-container-id-1 div.sk-toggleable__content.fitted {\n",
       "  /* fitted */\n",
       "  background-color: var(--sklearn-color-fitted-level-0);\n",
       "}\n",
       "\n",
       "#sk-container-id-1 div.sk-toggleable__content pre {\n",
       "  margin: 0.2em;\n",
       "  border-radius: 0.25em;\n",
       "  color: var(--sklearn-color-text);\n",
       "  /* unfitted */\n",
       "  background-color: var(--sklearn-color-unfitted-level-0);\n",
       "}\n",
       "\n",
       "#sk-container-id-1 div.sk-toggleable__content.fitted pre {\n",
       "  /* unfitted */\n",
       "  background-color: var(--sklearn-color-fitted-level-0);\n",
       "}\n",
       "\n",
       "#sk-container-id-1 input.sk-toggleable__control:checked~div.sk-toggleable__content {\n",
       "  /* Expand drop-down */\n",
       "  max-height: 200px;\n",
       "  max-width: 100%;\n",
       "  overflow: auto;\n",
       "}\n",
       "\n",
       "#sk-container-id-1 input.sk-toggleable__control:checked~label.sk-toggleable__label-arrow:before {\n",
       "  content: \"▾\";\n",
       "}\n",
       "\n",
       "/* Pipeline/ColumnTransformer-specific style */\n",
       "\n",
       "#sk-container-id-1 div.sk-label input.sk-toggleable__control:checked~label.sk-toggleable__label {\n",
       "  color: var(--sklearn-color-text);\n",
       "  background-color: var(--sklearn-color-unfitted-level-2);\n",
       "}\n",
       "\n",
       "#sk-container-id-1 div.sk-label.fitted input.sk-toggleable__control:checked~label.sk-toggleable__label {\n",
       "  background-color: var(--sklearn-color-fitted-level-2);\n",
       "}\n",
       "\n",
       "/* Estimator-specific style */\n",
       "\n",
       "/* Colorize estimator box */\n",
       "#sk-container-id-1 div.sk-estimator input.sk-toggleable__control:checked~label.sk-toggleable__label {\n",
       "  /* unfitted */\n",
       "  background-color: var(--sklearn-color-unfitted-level-2);\n",
       "}\n",
       "\n",
       "#sk-container-id-1 div.sk-estimator.fitted input.sk-toggleable__control:checked~label.sk-toggleable__label {\n",
       "  /* fitted */\n",
       "  background-color: var(--sklearn-color-fitted-level-2);\n",
       "}\n",
       "\n",
       "#sk-container-id-1 div.sk-label label.sk-toggleable__label,\n",
       "#sk-container-id-1 div.sk-label label {\n",
       "  /* The background is the default theme color */\n",
       "  color: var(--sklearn-color-text-on-default-background);\n",
       "}\n",
       "\n",
       "/* On hover, darken the color of the background */\n",
       "#sk-container-id-1 div.sk-label:hover label.sk-toggleable__label {\n",
       "  color: var(--sklearn-color-text);\n",
       "  background-color: var(--sklearn-color-unfitted-level-2);\n",
       "}\n",
       "\n",
       "/* Label box, darken color on hover, fitted */\n",
       "#sk-container-id-1 div.sk-label.fitted:hover label.sk-toggleable__label.fitted {\n",
       "  color: var(--sklearn-color-text);\n",
       "  background-color: var(--sklearn-color-fitted-level-2);\n",
       "}\n",
       "\n",
       "/* Estimator label */\n",
       "\n",
       "#sk-container-id-1 div.sk-label label {\n",
       "  font-family: monospace;\n",
       "  font-weight: bold;\n",
       "  display: inline-block;\n",
       "  line-height: 1.2em;\n",
       "}\n",
       "\n",
       "#sk-container-id-1 div.sk-label-container {\n",
       "  text-align: center;\n",
       "}\n",
       "\n",
       "/* Estimator-specific */\n",
       "#sk-container-id-1 div.sk-estimator {\n",
       "  font-family: monospace;\n",
       "  border: 1px dotted var(--sklearn-color-border-box);\n",
       "  border-radius: 0.25em;\n",
       "  box-sizing: border-box;\n",
       "  margin-bottom: 0.5em;\n",
       "  /* unfitted */\n",
       "  background-color: var(--sklearn-color-unfitted-level-0);\n",
       "}\n",
       "\n",
       "#sk-container-id-1 div.sk-estimator.fitted {\n",
       "  /* fitted */\n",
       "  background-color: var(--sklearn-color-fitted-level-0);\n",
       "}\n",
       "\n",
       "/* on hover */\n",
       "#sk-container-id-1 div.sk-estimator:hover {\n",
       "  /* unfitted */\n",
       "  background-color: var(--sklearn-color-unfitted-level-2);\n",
       "}\n",
       "\n",
       "#sk-container-id-1 div.sk-estimator.fitted:hover {\n",
       "  /* fitted */\n",
       "  background-color: var(--sklearn-color-fitted-level-2);\n",
       "}\n",
       "\n",
       "/* Specification for estimator info (e.g. \"i\" and \"?\") */\n",
       "\n",
       "/* Common style for \"i\" and \"?\" */\n",
       "\n",
       ".sk-estimator-doc-link,\n",
       "a:link.sk-estimator-doc-link,\n",
       "a:visited.sk-estimator-doc-link {\n",
       "  float: right;\n",
       "  font-size: smaller;\n",
       "  line-height: 1em;\n",
       "  font-family: monospace;\n",
       "  background-color: var(--sklearn-color-background);\n",
       "  border-radius: 1em;\n",
       "  height: 1em;\n",
       "  width: 1em;\n",
       "  text-decoration: none !important;\n",
       "  margin-left: 1ex;\n",
       "  /* unfitted */\n",
       "  border: var(--sklearn-color-unfitted-level-1) 1pt solid;\n",
       "  color: var(--sklearn-color-unfitted-level-1);\n",
       "}\n",
       "\n",
       ".sk-estimator-doc-link.fitted,\n",
       "a:link.sk-estimator-doc-link.fitted,\n",
       "a:visited.sk-estimator-doc-link.fitted {\n",
       "  /* fitted */\n",
       "  border: var(--sklearn-color-fitted-level-1) 1pt solid;\n",
       "  color: var(--sklearn-color-fitted-level-1);\n",
       "}\n",
       "\n",
       "/* On hover */\n",
       "div.sk-estimator:hover .sk-estimator-doc-link:hover,\n",
       ".sk-estimator-doc-link:hover,\n",
       "div.sk-label-container:hover .sk-estimator-doc-link:hover,\n",
       ".sk-estimator-doc-link:hover {\n",
       "  /* unfitted */\n",
       "  background-color: var(--sklearn-color-unfitted-level-3);\n",
       "  color: var(--sklearn-color-background);\n",
       "  text-decoration: none;\n",
       "}\n",
       "\n",
       "div.sk-estimator.fitted:hover .sk-estimator-doc-link.fitted:hover,\n",
       ".sk-estimator-doc-link.fitted:hover,\n",
       "div.sk-label-container:hover .sk-estimator-doc-link.fitted:hover,\n",
       ".sk-estimator-doc-link.fitted:hover {\n",
       "  /* fitted */\n",
       "  background-color: var(--sklearn-color-fitted-level-3);\n",
       "  color: var(--sklearn-color-background);\n",
       "  text-decoration: none;\n",
       "}\n",
       "\n",
       "/* Span, style for the box shown on hovering the info icon */\n",
       ".sk-estimator-doc-link span {\n",
       "  display: none;\n",
       "  z-index: 9999;\n",
       "  position: relative;\n",
       "  font-weight: normal;\n",
       "  right: .2ex;\n",
       "  padding: .5ex;\n",
       "  margin: .5ex;\n",
       "  width: min-content;\n",
       "  min-width: 20ex;\n",
       "  max-width: 50ex;\n",
       "  color: var(--sklearn-color-text);\n",
       "  box-shadow: 2pt 2pt 4pt #999;\n",
       "  /* unfitted */\n",
       "  background: var(--sklearn-color-unfitted-level-0);\n",
       "  border: .5pt solid var(--sklearn-color-unfitted-level-3);\n",
       "}\n",
       "\n",
       ".sk-estimator-doc-link.fitted span {\n",
       "  /* fitted */\n",
       "  background: var(--sklearn-color-fitted-level-0);\n",
       "  border: var(--sklearn-color-fitted-level-3);\n",
       "}\n",
       "\n",
       ".sk-estimator-doc-link:hover span {\n",
       "  display: block;\n",
       "}\n",
       "\n",
       "/* \"?\"-specific style due to the `<a>` HTML tag */\n",
       "\n",
       "#sk-container-id-1 a.estimator_doc_link {\n",
       "  float: right;\n",
       "  font-size: 1rem;\n",
       "  line-height: 1em;\n",
       "  font-family: monospace;\n",
       "  background-color: var(--sklearn-color-background);\n",
       "  border-radius: 1rem;\n",
       "  height: 1rem;\n",
       "  width: 1rem;\n",
       "  text-decoration: none;\n",
       "  /* unfitted */\n",
       "  color: var(--sklearn-color-unfitted-level-1);\n",
       "  border: var(--sklearn-color-unfitted-level-1) 1pt solid;\n",
       "}\n",
       "\n",
       "#sk-container-id-1 a.estimator_doc_link.fitted {\n",
       "  /* fitted */\n",
       "  border: var(--sklearn-color-fitted-level-1) 1pt solid;\n",
       "  color: var(--sklearn-color-fitted-level-1);\n",
       "}\n",
       "\n",
       "/* On hover */\n",
       "#sk-container-id-1 a.estimator_doc_link:hover {\n",
       "  /* unfitted */\n",
       "  background-color: var(--sklearn-color-unfitted-level-3);\n",
       "  color: var(--sklearn-color-background);\n",
       "  text-decoration: none;\n",
       "}\n",
       "\n",
       "#sk-container-id-1 a.estimator_doc_link.fitted:hover {\n",
       "  /* fitted */\n",
       "  background-color: var(--sklearn-color-fitted-level-3);\n",
       "}\n",
       "</style><div id=\"sk-container-id-1\" class=\"sk-top-container\"><div class=\"sk-text-repr-fallback\"><pre>PCA(n_components=8)</pre><b>In a Jupyter environment, please rerun this cell to show the HTML representation or trust the notebook. <br />On GitHub, the HTML representation is unable to render, please try loading this page with nbviewer.org.</b></div><div class=\"sk-container\" hidden><div class=\"sk-item\"><div class=\"sk-estimator fitted sk-toggleable\"><input class=\"sk-toggleable__control sk-hidden--visually\" id=\"sk-estimator-id-1\" type=\"checkbox\" checked><label for=\"sk-estimator-id-1\" class=\"sk-toggleable__label fitted sk-toggleable__label-arrow fitted\">&nbsp;&nbsp;PCA<a class=\"sk-estimator-doc-link fitted\" rel=\"noreferrer\" target=\"_blank\" href=\"https://scikit-learn.org/1.5/modules/generated/sklearn.decomposition.PCA.html\">?<span>Documentation for PCA</span></a><span class=\"sk-estimator-doc-link fitted\">i<span>Fitted</span></span></label><div class=\"sk-toggleable__content fitted\"><pre>PCA(n_components=8)</pre></div> </div></div></div></div>"
      ],
      "text/plain": [
       "PCA(n_components=8)"
      ]
     },
     "execution_count": 135,
     "metadata": {},
     "output_type": "execute_result"
    },
    {
     "data": {
      "text/html": [
       "<div>\n",
       "<style scoped>\n",
       "    .dataframe tbody tr th:only-of-type {\n",
       "        vertical-align: middle;\n",
       "    }\n",
       "\n",
       "    .dataframe tbody tr th {\n",
       "        vertical-align: top;\n",
       "    }\n",
       "\n",
       "    .dataframe thead th {\n",
       "        text-align: right;\n",
       "    }\n",
       "</style>\n",
       "<table border=\"1\" class=\"dataframe\">\n",
       "  <thead>\n",
       "    <tr style=\"text-align: right;\">\n",
       "      <th></th>\n",
       "      <th>p1</th>\n",
       "      <th>p2</th>\n",
       "      <th>p3</th>\n",
       "      <th>p4</th>\n",
       "      <th>p5</th>\n",
       "      <th>p6</th>\n",
       "      <th>p7</th>\n",
       "      <th>p8</th>\n",
       "    </tr>\n",
       "  </thead>\n",
       "  <tbody>\n",
       "    <tr>\n",
       "      <th>0</th>\n",
       "      <td>-509.931012</td>\n",
       "      <td>1.638959</td>\n",
       "      <td>-8.855574</td>\n",
       "      <td>-2.839663</td>\n",
       "      <td>-3.907803</td>\n",
       "      <td>-2.629782</td>\n",
       "      <td>-0.025423</td>\n",
       "      <td>4.941387</td>\n",
       "    </tr>\n",
       "    <tr>\n",
       "      <th>1</th>\n",
       "      <td>-1372.916104</td>\n",
       "      <td>12.793190</td>\n",
       "      <td>-2.829159</td>\n",
       "      <td>-0.093598</td>\n",
       "      <td>8.238937</td>\n",
       "      <td>-5.498181</td>\n",
       "      <td>-3.121659</td>\n",
       "      <td>0.572705</td>\n",
       "    </tr>\n",
       "    <tr>\n",
       "      <th>2</th>\n",
       "      <td>-4412.936742</td>\n",
       "      <td>1.720998</td>\n",
       "      <td>-8.115647</td>\n",
       "      <td>-6.641643</td>\n",
       "      <td>-0.497619</td>\n",
       "      <td>2.125279</td>\n",
       "      <td>1.466071</td>\n",
       "      <td>0.785056</td>\n",
       "    </tr>\n",
       "    <tr>\n",
       "      <th>3</th>\n",
       "      <td>-3593.932936</td>\n",
       "      <td>0.243048</td>\n",
       "      <td>-6.222319</td>\n",
       "      <td>3.979349</td>\n",
       "      <td>-4.090960</td>\n",
       "      <td>-0.308293</td>\n",
       "      <td>0.825168</td>\n",
       "      <td>-1.782419</td>\n",
       "    </tr>\n",
       "    <tr>\n",
       "      <th>4</th>\n",
       "      <td>-3034.946733</td>\n",
       "      <td>-8.063132</td>\n",
       "      <td>-6.427458</td>\n",
       "      <td>-0.679409</td>\n",
       "      <td>-3.399874</td>\n",
       "      <td>3.239106</td>\n",
       "      <td>4.071581</td>\n",
       "      <td>3.911498</td>\n",
       "    </tr>\n",
       "  </tbody>\n",
       "</table>\n",
       "</div>"
      ],
      "text/plain": [
       "            p1         p2        p3        p4        p5        p6        p7  \\\n",
       "0  -509.931012   1.638959 -8.855574 -2.839663 -3.907803 -2.629782 -0.025423   \n",
       "1 -1372.916104  12.793190 -2.829159 -0.093598  8.238937 -5.498181 -3.121659   \n",
       "2 -4412.936742   1.720998 -8.115647 -6.641643 -0.497619  2.125279  1.466071   \n",
       "3 -3593.932936   0.243048 -6.222319  3.979349 -4.090960 -0.308293  0.825168   \n",
       "4 -3034.946733  -8.063132 -6.427458 -0.679409 -3.399874  3.239106  4.071581   \n",
       "\n",
       "         p8  \n",
       "0  4.941387  \n",
       "1  0.572705  \n",
       "2  0.785056  \n",
       "3 -1.782419  \n",
       "4  3.911498  "
      ]
     },
     "execution_count": 135,
     "metadata": {},
     "output_type": "execute_result"
    }
   ],
   "source": [
    "from sklearn.decomposition import PCA\n",
    "pca = PCA(n_components = 8)\n",
    "pca.fit(X)\n",
    "\n",
    "pca_components = pca.fit_transform(X)\n",
    "pcaf = pd.DataFrame(pca_components, columns= ['p1','p2','p3', 'p4', 'p5','p6','p7','p8'])\n",
    "pcaf.head()"
   ]
  },
  {
   "cell_type": "markdown",
   "id": "dbdbabed-bf23-4d8e-9975-6016e73548cf",
   "metadata": {},
   "source": [
    "### 7.4 Splitting the dataset as training and testing"
   ]
  },
  {
   "cell_type": "code",
   "execution_count": 137,
   "id": "e6cbc12c-a54b-46d7-96d7-88cdb5f46641",
   "metadata": {},
   "outputs": [],
   "source": [
    "X_train, X_test, y_train, y_test = train_test_split(pcaf, y, test_size = 0.33, random_state = 0)"
   ]
  },
  {
   "cell_type": "code",
   "execution_count": 138,
   "id": "c5dd382a-ec1d-4ff9-84e5-c423028a9a1e",
   "metadata": {},
   "outputs": [
    {
     "data": {
      "text/plain": [
       "(984, 8)"
      ]
     },
     "execution_count": 138,
     "metadata": {},
     "output_type": "execute_result"
    },
    {
     "data": {
      "text/plain": [
       "(486, 8)"
      ]
     },
     "execution_count": 138,
     "metadata": {},
     "output_type": "execute_result"
    }
   ],
   "source": [
    "X_train.shape\n",
    "X_test.shape"
   ]
  },
  {
   "cell_type": "markdown",
   "id": "99764d68-e026-42d8-a13c-e46d2044b09c",
   "metadata": {},
   "source": [
    "### 7.5 Fitting the training data"
   ]
  },
  {
   "cell_type": "code",
   "execution_count": 140,
   "id": "78931500-9bf5-4ddb-8e49-52331339b0ce",
   "metadata": {},
   "outputs": [
    {
     "data": {
      "text/html": [
       "<style>#sk-container-id-2 {\n",
       "  /* Definition of color scheme common for light and dark mode */\n",
       "  --sklearn-color-text: black;\n",
       "  --sklearn-color-line: gray;\n",
       "  /* Definition of color scheme for unfitted estimators */\n",
       "  --sklearn-color-unfitted-level-0: #fff5e6;\n",
       "  --sklearn-color-unfitted-level-1: #f6e4d2;\n",
       "  --sklearn-color-unfitted-level-2: #ffe0b3;\n",
       "  --sklearn-color-unfitted-level-3: chocolate;\n",
       "  /* Definition of color scheme for fitted estimators */\n",
       "  --sklearn-color-fitted-level-0: #f0f8ff;\n",
       "  --sklearn-color-fitted-level-1: #d4ebff;\n",
       "  --sklearn-color-fitted-level-2: #b3dbfd;\n",
       "  --sklearn-color-fitted-level-3: cornflowerblue;\n",
       "\n",
       "  /* Specific color for light theme */\n",
       "  --sklearn-color-text-on-default-background: var(--sg-text-color, var(--theme-code-foreground, var(--jp-content-font-color1, black)));\n",
       "  --sklearn-color-background: var(--sg-background-color, var(--theme-background, var(--jp-layout-color0, white)));\n",
       "  --sklearn-color-border-box: var(--sg-text-color, var(--theme-code-foreground, var(--jp-content-font-color1, black)));\n",
       "  --sklearn-color-icon: #696969;\n",
       "\n",
       "  @media (prefers-color-scheme: dark) {\n",
       "    /* Redefinition of color scheme for dark theme */\n",
       "    --sklearn-color-text-on-default-background: var(--sg-text-color, var(--theme-code-foreground, var(--jp-content-font-color1, white)));\n",
       "    --sklearn-color-background: var(--sg-background-color, var(--theme-background, var(--jp-layout-color0, #111)));\n",
       "    --sklearn-color-border-box: var(--sg-text-color, var(--theme-code-foreground, var(--jp-content-font-color1, white)));\n",
       "    --sklearn-color-icon: #878787;\n",
       "  }\n",
       "}\n",
       "\n",
       "#sk-container-id-2 {\n",
       "  color: var(--sklearn-color-text);\n",
       "}\n",
       "\n",
       "#sk-container-id-2 pre {\n",
       "  padding: 0;\n",
       "}\n",
       "\n",
       "#sk-container-id-2 input.sk-hidden--visually {\n",
       "  border: 0;\n",
       "  clip: rect(1px 1px 1px 1px);\n",
       "  clip: rect(1px, 1px, 1px, 1px);\n",
       "  height: 1px;\n",
       "  margin: -1px;\n",
       "  overflow: hidden;\n",
       "  padding: 0;\n",
       "  position: absolute;\n",
       "  width: 1px;\n",
       "}\n",
       "\n",
       "#sk-container-id-2 div.sk-dashed-wrapped {\n",
       "  border: 1px dashed var(--sklearn-color-line);\n",
       "  margin: 0 0.4em 0.5em 0.4em;\n",
       "  box-sizing: border-box;\n",
       "  padding-bottom: 0.4em;\n",
       "  background-color: var(--sklearn-color-background);\n",
       "}\n",
       "\n",
       "#sk-container-id-2 div.sk-container {\n",
       "  /* jupyter's `normalize.less` sets `[hidden] { display: none; }`\n",
       "     but bootstrap.min.css set `[hidden] { display: none !important; }`\n",
       "     so we also need the `!important` here to be able to override the\n",
       "     default hidden behavior on the sphinx rendered scikit-learn.org.\n",
       "     See: https://github.com/scikit-learn/scikit-learn/issues/21755 */\n",
       "  display: inline-block !important;\n",
       "  position: relative;\n",
       "}\n",
       "\n",
       "#sk-container-id-2 div.sk-text-repr-fallback {\n",
       "  display: none;\n",
       "}\n",
       "\n",
       "div.sk-parallel-item,\n",
       "div.sk-serial,\n",
       "div.sk-item {\n",
       "  /* draw centered vertical line to link estimators */\n",
       "  background-image: linear-gradient(var(--sklearn-color-text-on-default-background), var(--sklearn-color-text-on-default-background));\n",
       "  background-size: 2px 100%;\n",
       "  background-repeat: no-repeat;\n",
       "  background-position: center center;\n",
       "}\n",
       "\n",
       "/* Parallel-specific style estimator block */\n",
       "\n",
       "#sk-container-id-2 div.sk-parallel-item::after {\n",
       "  content: \"\";\n",
       "  width: 100%;\n",
       "  border-bottom: 2px solid var(--sklearn-color-text-on-default-background);\n",
       "  flex-grow: 1;\n",
       "}\n",
       "\n",
       "#sk-container-id-2 div.sk-parallel {\n",
       "  display: flex;\n",
       "  align-items: stretch;\n",
       "  justify-content: center;\n",
       "  background-color: var(--sklearn-color-background);\n",
       "  position: relative;\n",
       "}\n",
       "\n",
       "#sk-container-id-2 div.sk-parallel-item {\n",
       "  display: flex;\n",
       "  flex-direction: column;\n",
       "}\n",
       "\n",
       "#sk-container-id-2 div.sk-parallel-item:first-child::after {\n",
       "  align-self: flex-end;\n",
       "  width: 50%;\n",
       "}\n",
       "\n",
       "#sk-container-id-2 div.sk-parallel-item:last-child::after {\n",
       "  align-self: flex-start;\n",
       "  width: 50%;\n",
       "}\n",
       "\n",
       "#sk-container-id-2 div.sk-parallel-item:only-child::after {\n",
       "  width: 0;\n",
       "}\n",
       "\n",
       "/* Serial-specific style estimator block */\n",
       "\n",
       "#sk-container-id-2 div.sk-serial {\n",
       "  display: flex;\n",
       "  flex-direction: column;\n",
       "  align-items: center;\n",
       "  background-color: var(--sklearn-color-background);\n",
       "  padding-right: 1em;\n",
       "  padding-left: 1em;\n",
       "}\n",
       "\n",
       "\n",
       "/* Toggleable style: style used for estimator/Pipeline/ColumnTransformer box that is\n",
       "clickable and can be expanded/collapsed.\n",
       "- Pipeline and ColumnTransformer use this feature and define the default style\n",
       "- Estimators will overwrite some part of the style using the `sk-estimator` class\n",
       "*/\n",
       "\n",
       "/* Pipeline and ColumnTransformer style (default) */\n",
       "\n",
       "#sk-container-id-2 div.sk-toggleable {\n",
       "  /* Default theme specific background. It is overwritten whether we have a\n",
       "  specific estimator or a Pipeline/ColumnTransformer */\n",
       "  background-color: var(--sklearn-color-background);\n",
       "}\n",
       "\n",
       "/* Toggleable label */\n",
       "#sk-container-id-2 label.sk-toggleable__label {\n",
       "  cursor: pointer;\n",
       "  display: block;\n",
       "  width: 100%;\n",
       "  margin-bottom: 0;\n",
       "  padding: 0.5em;\n",
       "  box-sizing: border-box;\n",
       "  text-align: center;\n",
       "}\n",
       "\n",
       "#sk-container-id-2 label.sk-toggleable__label-arrow:before {\n",
       "  /* Arrow on the left of the label */\n",
       "  content: \"▸\";\n",
       "  float: left;\n",
       "  margin-right: 0.25em;\n",
       "  color: var(--sklearn-color-icon);\n",
       "}\n",
       "\n",
       "#sk-container-id-2 label.sk-toggleable__label-arrow:hover:before {\n",
       "  color: var(--sklearn-color-text);\n",
       "}\n",
       "\n",
       "/* Toggleable content - dropdown */\n",
       "\n",
       "#sk-container-id-2 div.sk-toggleable__content {\n",
       "  max-height: 0;\n",
       "  max-width: 0;\n",
       "  overflow: hidden;\n",
       "  text-align: left;\n",
       "  /* unfitted */\n",
       "  background-color: var(--sklearn-color-unfitted-level-0);\n",
       "}\n",
       "\n",
       "#sk-container-id-2 div.sk-toggleable__content.fitted {\n",
       "  /* fitted */\n",
       "  background-color: var(--sklearn-color-fitted-level-0);\n",
       "}\n",
       "\n",
       "#sk-container-id-2 div.sk-toggleable__content pre {\n",
       "  margin: 0.2em;\n",
       "  border-radius: 0.25em;\n",
       "  color: var(--sklearn-color-text);\n",
       "  /* unfitted */\n",
       "  background-color: var(--sklearn-color-unfitted-level-0);\n",
       "}\n",
       "\n",
       "#sk-container-id-2 div.sk-toggleable__content.fitted pre {\n",
       "  /* unfitted */\n",
       "  background-color: var(--sklearn-color-fitted-level-0);\n",
       "}\n",
       "\n",
       "#sk-container-id-2 input.sk-toggleable__control:checked~div.sk-toggleable__content {\n",
       "  /* Expand drop-down */\n",
       "  max-height: 200px;\n",
       "  max-width: 100%;\n",
       "  overflow: auto;\n",
       "}\n",
       "\n",
       "#sk-container-id-2 input.sk-toggleable__control:checked~label.sk-toggleable__label-arrow:before {\n",
       "  content: \"▾\";\n",
       "}\n",
       "\n",
       "/* Pipeline/ColumnTransformer-specific style */\n",
       "\n",
       "#sk-container-id-2 div.sk-label input.sk-toggleable__control:checked~label.sk-toggleable__label {\n",
       "  color: var(--sklearn-color-text);\n",
       "  background-color: var(--sklearn-color-unfitted-level-2);\n",
       "}\n",
       "\n",
       "#sk-container-id-2 div.sk-label.fitted input.sk-toggleable__control:checked~label.sk-toggleable__label {\n",
       "  background-color: var(--sklearn-color-fitted-level-2);\n",
       "}\n",
       "\n",
       "/* Estimator-specific style */\n",
       "\n",
       "/* Colorize estimator box */\n",
       "#sk-container-id-2 div.sk-estimator input.sk-toggleable__control:checked~label.sk-toggleable__label {\n",
       "  /* unfitted */\n",
       "  background-color: var(--sklearn-color-unfitted-level-2);\n",
       "}\n",
       "\n",
       "#sk-container-id-2 div.sk-estimator.fitted input.sk-toggleable__control:checked~label.sk-toggleable__label {\n",
       "  /* fitted */\n",
       "  background-color: var(--sklearn-color-fitted-level-2);\n",
       "}\n",
       "\n",
       "#sk-container-id-2 div.sk-label label.sk-toggleable__label,\n",
       "#sk-container-id-2 div.sk-label label {\n",
       "  /* The background is the default theme color */\n",
       "  color: var(--sklearn-color-text-on-default-background);\n",
       "}\n",
       "\n",
       "/* On hover, darken the color of the background */\n",
       "#sk-container-id-2 div.sk-label:hover label.sk-toggleable__label {\n",
       "  color: var(--sklearn-color-text);\n",
       "  background-color: var(--sklearn-color-unfitted-level-2);\n",
       "}\n",
       "\n",
       "/* Label box, darken color on hover, fitted */\n",
       "#sk-container-id-2 div.sk-label.fitted:hover label.sk-toggleable__label.fitted {\n",
       "  color: var(--sklearn-color-text);\n",
       "  background-color: var(--sklearn-color-fitted-level-2);\n",
       "}\n",
       "\n",
       "/* Estimator label */\n",
       "\n",
       "#sk-container-id-2 div.sk-label label {\n",
       "  font-family: monospace;\n",
       "  font-weight: bold;\n",
       "  display: inline-block;\n",
       "  line-height: 1.2em;\n",
       "}\n",
       "\n",
       "#sk-container-id-2 div.sk-label-container {\n",
       "  text-align: center;\n",
       "}\n",
       "\n",
       "/* Estimator-specific */\n",
       "#sk-container-id-2 div.sk-estimator {\n",
       "  font-family: monospace;\n",
       "  border: 1px dotted var(--sklearn-color-border-box);\n",
       "  border-radius: 0.25em;\n",
       "  box-sizing: border-box;\n",
       "  margin-bottom: 0.5em;\n",
       "  /* unfitted */\n",
       "  background-color: var(--sklearn-color-unfitted-level-0);\n",
       "}\n",
       "\n",
       "#sk-container-id-2 div.sk-estimator.fitted {\n",
       "  /* fitted */\n",
       "  background-color: var(--sklearn-color-fitted-level-0);\n",
       "}\n",
       "\n",
       "/* on hover */\n",
       "#sk-container-id-2 div.sk-estimator:hover {\n",
       "  /* unfitted */\n",
       "  background-color: var(--sklearn-color-unfitted-level-2);\n",
       "}\n",
       "\n",
       "#sk-container-id-2 div.sk-estimator.fitted:hover {\n",
       "  /* fitted */\n",
       "  background-color: var(--sklearn-color-fitted-level-2);\n",
       "}\n",
       "\n",
       "/* Specification for estimator info (e.g. \"i\" and \"?\") */\n",
       "\n",
       "/* Common style for \"i\" and \"?\" */\n",
       "\n",
       ".sk-estimator-doc-link,\n",
       "a:link.sk-estimator-doc-link,\n",
       "a:visited.sk-estimator-doc-link {\n",
       "  float: right;\n",
       "  font-size: smaller;\n",
       "  line-height: 1em;\n",
       "  font-family: monospace;\n",
       "  background-color: var(--sklearn-color-background);\n",
       "  border-radius: 1em;\n",
       "  height: 1em;\n",
       "  width: 1em;\n",
       "  text-decoration: none !important;\n",
       "  margin-left: 1ex;\n",
       "  /* unfitted */\n",
       "  border: var(--sklearn-color-unfitted-level-1) 1pt solid;\n",
       "  color: var(--sklearn-color-unfitted-level-1);\n",
       "}\n",
       "\n",
       ".sk-estimator-doc-link.fitted,\n",
       "a:link.sk-estimator-doc-link.fitted,\n",
       "a:visited.sk-estimator-doc-link.fitted {\n",
       "  /* fitted */\n",
       "  border: var(--sklearn-color-fitted-level-1) 1pt solid;\n",
       "  color: var(--sklearn-color-fitted-level-1);\n",
       "}\n",
       "\n",
       "/* On hover */\n",
       "div.sk-estimator:hover .sk-estimator-doc-link:hover,\n",
       ".sk-estimator-doc-link:hover,\n",
       "div.sk-label-container:hover .sk-estimator-doc-link:hover,\n",
       ".sk-estimator-doc-link:hover {\n",
       "  /* unfitted */\n",
       "  background-color: var(--sklearn-color-unfitted-level-3);\n",
       "  color: var(--sklearn-color-background);\n",
       "  text-decoration: none;\n",
       "}\n",
       "\n",
       "div.sk-estimator.fitted:hover .sk-estimator-doc-link.fitted:hover,\n",
       ".sk-estimator-doc-link.fitted:hover,\n",
       "div.sk-label-container:hover .sk-estimator-doc-link.fitted:hover,\n",
       ".sk-estimator-doc-link.fitted:hover {\n",
       "  /* fitted */\n",
       "  background-color: var(--sklearn-color-fitted-level-3);\n",
       "  color: var(--sklearn-color-background);\n",
       "  text-decoration: none;\n",
       "}\n",
       "\n",
       "/* Span, style for the box shown on hovering the info icon */\n",
       ".sk-estimator-doc-link span {\n",
       "  display: none;\n",
       "  z-index: 9999;\n",
       "  position: relative;\n",
       "  font-weight: normal;\n",
       "  right: .2ex;\n",
       "  padding: .5ex;\n",
       "  margin: .5ex;\n",
       "  width: min-content;\n",
       "  min-width: 20ex;\n",
       "  max-width: 50ex;\n",
       "  color: var(--sklearn-color-text);\n",
       "  box-shadow: 2pt 2pt 4pt #999;\n",
       "  /* unfitted */\n",
       "  background: var(--sklearn-color-unfitted-level-0);\n",
       "  border: .5pt solid var(--sklearn-color-unfitted-level-3);\n",
       "}\n",
       "\n",
       ".sk-estimator-doc-link.fitted span {\n",
       "  /* fitted */\n",
       "  background: var(--sklearn-color-fitted-level-0);\n",
       "  border: var(--sklearn-color-fitted-level-3);\n",
       "}\n",
       "\n",
       ".sk-estimator-doc-link:hover span {\n",
       "  display: block;\n",
       "}\n",
       "\n",
       "/* \"?\"-specific style due to the `<a>` HTML tag */\n",
       "\n",
       "#sk-container-id-2 a.estimator_doc_link {\n",
       "  float: right;\n",
       "  font-size: 1rem;\n",
       "  line-height: 1em;\n",
       "  font-family: monospace;\n",
       "  background-color: var(--sklearn-color-background);\n",
       "  border-radius: 1rem;\n",
       "  height: 1rem;\n",
       "  width: 1rem;\n",
       "  text-decoration: none;\n",
       "  /* unfitted */\n",
       "  color: var(--sklearn-color-unfitted-level-1);\n",
       "  border: var(--sklearn-color-unfitted-level-1) 1pt solid;\n",
       "}\n",
       "\n",
       "#sk-container-id-2 a.estimator_doc_link.fitted {\n",
       "  /* fitted */\n",
       "  border: var(--sklearn-color-fitted-level-1) 1pt solid;\n",
       "  color: var(--sklearn-color-fitted-level-1);\n",
       "}\n",
       "\n",
       "/* On hover */\n",
       "#sk-container-id-2 a.estimator_doc_link:hover {\n",
       "  /* unfitted */\n",
       "  background-color: var(--sklearn-color-unfitted-level-3);\n",
       "  color: var(--sklearn-color-background);\n",
       "  text-decoration: none;\n",
       "}\n",
       "\n",
       "#sk-container-id-2 a.estimator_doc_link.fitted:hover {\n",
       "  /* fitted */\n",
       "  background-color: var(--sklearn-color-fitted-level-3);\n",
       "}\n",
       "</style><div id=\"sk-container-id-2\" class=\"sk-top-container\"><div class=\"sk-text-repr-fallback\"><pre>LogisticRegression()</pre><b>In a Jupyter environment, please rerun this cell to show the HTML representation or trust the notebook. <br />On GitHub, the HTML representation is unable to render, please try loading this page with nbviewer.org.</b></div><div class=\"sk-container\" hidden><div class=\"sk-item\"><div class=\"sk-estimator fitted sk-toggleable\"><input class=\"sk-toggleable__control sk-hidden--visually\" id=\"sk-estimator-id-2\" type=\"checkbox\" checked><label for=\"sk-estimator-id-2\" class=\"sk-toggleable__label fitted sk-toggleable__label-arrow fitted\">&nbsp;&nbsp;LogisticRegression<a class=\"sk-estimator-doc-link fitted\" rel=\"noreferrer\" target=\"_blank\" href=\"https://scikit-learn.org/1.5/modules/generated/sklearn.linear_model.LogisticRegression.html\">?<span>Documentation for LogisticRegression</span></a><span class=\"sk-estimator-doc-link fitted\">i<span>Fitted</span></span></label><div class=\"sk-toggleable__content fitted\"><pre>LogisticRegression()</pre></div> </div></div></div></div>"
      ],
      "text/plain": [
       "LogisticRegression()"
      ]
     },
     "execution_count": 140,
     "metadata": {},
     "output_type": "execute_result"
    }
   ],
   "source": [
    "regressor = LogisticRegression()\n",
    "regressor.fit(X_train,y_train)"
   ]
  },
  {
   "cell_type": "markdown",
   "id": "1e2bf930-f6cd-47e7-91ea-f49d3f7d254d",
   "metadata": {},
   "source": [
    "### 7.6 Predicting on test data"
   ]
  },
  {
   "cell_type": "code",
   "execution_count": 142,
   "id": "fa2d081e-3152-4141-bf3c-8a3e006d0393",
   "metadata": {},
   "outputs": [
    {
     "data": {
      "text/plain": [
       "array(['No', 'No', 'No', 'No', 'No', 'No', 'No', 'No', 'No', 'No'],\n",
       "      dtype=object)"
      ]
     },
     "execution_count": 142,
     "metadata": {},
     "output_type": "execute_result"
    }
   ],
   "source": [
    "y_prediction = regressor.predict(X_test)\n",
    "y_prediction[0:10]"
   ]
  },
  {
   "cell_type": "markdown",
   "id": "2b25ed90-01e9-4419-b07a-d4bd5bada602",
   "metadata": {},
   "source": [
    "### 7.7 Accuracy score"
   ]
  },
  {
   "cell_type": "code",
   "execution_count": 144,
   "id": "b1d6be80-243a-40cb-a698-6e5e397c729d",
   "metadata": {},
   "outputs": [
    {
     "data": {
      "text/plain": [
       "0.8415637860082305"
      ]
     },
     "execution_count": 144,
     "metadata": {},
     "output_type": "execute_result"
    }
   ],
   "source": [
    "from sklearn.metrics import accuracy_score\n",
    "acc_score = accuracy_score(y_true = y_test, y_pred = y_prediction)\n",
    "acc_score"
   ]
  },
  {
   "cell_type": "markdown",
   "id": "53089a8e-59b9-4009-bdfc-3c524b197d59",
   "metadata": {},
   "source": [
    "_The accuracy is around __84.15%___"
   ]
  },
  {
   "cell_type": "markdown",
   "id": "02455801-1eb0-43c3-bbb0-1a4b338eaeec",
   "metadata": {},
   "source": [
    "### 7.8 Classification report"
   ]
  },
  {
   "cell_type": "code",
   "execution_count": 147,
   "id": "1f3ee670-372b-4b17-ad1c-95b40d27e53b",
   "metadata": {},
   "outputs": [
    {
     "name": "stdout",
     "output_type": "stream",
     "text": [
      "              precision    recall  f1-score   support\n",
      "\n",
      "          No       0.84      1.00      0.91       407\n",
      "         Yes       0.75      0.04      0.07        79\n",
      "\n",
      "    accuracy                           0.84       486\n",
      "   macro avg       0.80      0.52      0.49       486\n",
      "weighted avg       0.83      0.84      0.78       486\n",
      "\n"
     ]
    }
   ],
   "source": [
    "from sklearn.metrics import classification_report\n",
    "print(classification_report(y_test, y_prediction))"
   ]
  },
  {
   "cell_type": "markdown",
   "id": "c4e2bfcb-1a46-4d9a-a641-da3e7ea3dae9",
   "metadata": {},
   "source": [
    "### 7.9 Confusion matrix"
   ]
  },
  {
   "cell_type": "code",
   "execution_count": 149,
   "id": "840c13d4-c1df-41fb-840a-3ab40fdacd9c",
   "metadata": {},
   "outputs": [
    {
     "data": {
      "text/plain": [
       "array([[406,   1],\n",
       "       [ 76,   3]], dtype=int64)"
      ]
     },
     "execution_count": 149,
     "metadata": {},
     "output_type": "execute_result"
    }
   ],
   "source": [
    "from sklearn.metrics import confusion_matrix\n",
    "confusion_matrix(y_true = y_test, y_pred = y_prediction)"
   ]
  },
  {
   "cell_type": "code",
   "execution_count": 150,
   "id": "7915bb1c-7e9e-48ac-a594-b4e5c44bb124",
   "metadata": {},
   "outputs": [
    {
     "data": {
      "text/plain": [
       "<Axes: >"
      ]
     },
     "execution_count": 150,
     "metadata": {},
     "output_type": "execute_result"
    },
    {
     "data": {
      "image/png": "[encoded data removed]",
      "text/plain": [
       "<Figure size 640x480 with 2 Axes>"
      ]
     },
     "metadata": {},
     "output_type": "display_data"
    }
   ],
   "source": [
    "import seaborn as sns\n",
    "cm = confusion_matrix(y_true = y_test, y_pred = y_prediction)\n",
    "sns.heatmap(cm, fmt='d', annot = True, cmap = 'Blues')"
   ]
  },
  {
   "cell_type": "markdown",
   "id": "14fe11b3-3b2d-4b1a-a36a-a490d304c40c",
   "metadata": {},
   "source": [
    "### 8. Key findings and managerial implication"
   ]
  },
  {
   "cell_type": "markdown",
   "id": "bbac1d5c-3e0a-4bd2-bf59-207be766c0cd",
   "metadata": {},
   "source": [
    "__Key findings:__ <br>\n",
    "1. __Overview:__ The data set has 35 features which will help to understand why employee are more bound to leave. This enforces to implement the actionable changes in the companies lifestyle which eventually makes the employee statisfied and will significantly reduce the leaving rates of the employee.<br>\n",
    "<br>\n",
    "2. __Attrition:__ Nearly __237__ employees left the company.<br>\n",
    "<br>\n",
    "3. __Demographics:__ Across all ages around __673__ employees were married and a total of __260__ employees are in promotion due. To explore more on the count of gender, there were __more males__ than females employee in the company. It is interesting to know that __more males__ than __females left__ the company. The proportion of __males__ was __150__ and __females__ were near to __87__ who left the company. Moreover, __29-39 age group__ is more suseptible to leave the company. Further to explore more why this age group got impacted a lot, a study from the age group __29-39__ is made which shows that the employees with martial status of __Single__ were more prone to leave the company. Nearly, __120 Single__ employees left the company followed by __married__ employees of around __84__.<br>\n",
    "<br>\n",
    "4. __Overview of some attriton causes along with their promotion:__ Most of the employees who left the company had a maximum of __1-10 years__ of experience. Further we checked if their attrition was because they did not recieve the __promotion__? Was their promotion on due? __Yes__, many employees, around __200__ did not recieve promotion which could have made them leave the company.<br>\n",
    "<br>\n",
    "5. __Income wise:__ The monthly income of employees were found to be very less around __1000-3000__. Only few employees have an income above __17500__. Those can be Specialist, Expert, Team Lead.<br>\n",
    "<br>\n",
    "6. __Overview of distance, experience and overtime factors:__ In this study, to understand whether the distance was the factor for them to leave the company, a plot is created to understand the feature of distance. __Minimum distance__ that the employee required to come to office was __1.5 kms__ and __maximum distance__ was nearly __29 kms__. Furthermore, most of the employees around __121__ contributed upto __4 years__ to the company. To add more to statistics, one of their reason to attrition could be due to __overtime__. Around __127__ employees worked overtime. <br>\n",
    "<br>\n",
    "7. One interesting fact that the Manager is having a __high__ monthly salary so their chances to leave the company is __very less__. This is shown by the plot where it shows only __5__ managers left the company.<br>\n",
    "<br>\n",
    "8. There are more reasons for thier attrition which can be found in the analysis sections of this study."
   ]
  },
  {
   "cell_type": "markdown",
   "id": "1ce3722b-4609-48e9-a5fe-2c835da14432",
   "metadata": {},
   "source": [
    "__Managerial Implication:__ <br>\n",
    "\n",
    "___Compensation Adjustments:___ <br>\n",
    "Offer competitive salaries and reviews after periods of time so compensation remains market-adjusted.<br>\n",
    "Allow for performance bonuses and incentives to raise employee satisfaction.<br>\n",
    "\n",
    "___Work-Life Balance Improvement:___ <br>\n",
    "Try to minimize overtime and apply flexible work scheduling to decrease the probability of burnout.<br>\n",
    "Allow working remotely or with hybrid systems when possible for people with long commutes.<br>\n",
    "\n",
    "___Pay Attention to Career Growth:___ <br>\n",
    "Provide well-structured career development pathways with clear opportunities for promotion.<br>\n",
    "Provide training programs to enhance skills and professional certification.<br>\n",
    "\n",
    "___Improve Job Satisfaction:___ <br>\n",
    "Regularly conduct employee surveys and focus groups to understand and improve dissatisfaction.<br>\n",
    "Recognize and reward employees for their contributions to boosting morale and engagement.<br>"
   ]
  },
  {
   "cell_type": "markdown",
   "id": "651e8474-ada3-4dd1-8bb8-bdea9897466e",
   "metadata": {},
   "source": [
    "### 9. Conclusion"
   ]
  },
  {
   "cell_type": "markdown",
   "id": "a3dc21a3-e8c4-46d5-84b7-15ff91cbfc26",
   "metadata": {},
   "source": [
    "This study provides an in-depth analysis of employee turnover and pinpoints some significant variables affecting turnover, along with practical suggestions to improve retention. To help decrease the rate of turnover, results point to work-life balance, competitive pay, career progression opportunities, and managerial support. <br>\n",
    "\n",
    "Predictive modeling puts more power in the hands of decision-makers by not only pinpointing high-risk workers but also allowing proactive and concentrated retention strategies. By implementing these evidence-based recommendations, the organization can reduce turnover costs, retain key personnel, and foster a more active and efficient workforce. This research forms the foundation for future developments in workforce management by underlining the efficiency of using data analytics to tackle complex organizational issues."
   ]
  },
  {
   "cell_type": "markdown",
   "id": "8b19eb5f-aee8-4d77-a556-92040c78b854",
   "metadata": {},
   "source": [
    "### 10. References"
   ]
  },
  {
   "cell_type": "markdown",
   "id": "3c487188-02d0-4417-9a2a-9bf2e05a7f42",
   "metadata": {},
   "source": [
    "__Dataset:__  ___https://www.kaggle.com/datasets/pavansubhasht/ibm-hr-analytics-attrition-dataset___ <br>"
   ]
  },
  {
   "cell_type": "code",
   "execution_count": null,
   "id": "e00f0d2c-8e06-4991-b967-2f8c163df5f4",
   "metadata": {},
   "outputs": [],
   "source": []
  }
 ],
 "metadata": {
  "kernelspec": {
   "display_name": "Python 3 (ipykernel)",
   "language": "python",
   "name": "python3"
  },
  "language_info": {
   "codemirror_mode": {
    "name": "ipython",
    "version": 3
   },
   "file_extension": ".py",
   "mimetype": "text/x-python",
   "name": "python",
   "nbconvert_exporter": "python",
   "pygments_lexer": "ipython3",
   "version": "3.12.4"
  }
 },
 "nbformat": 4,
 "nbformat_minor": 5
}
